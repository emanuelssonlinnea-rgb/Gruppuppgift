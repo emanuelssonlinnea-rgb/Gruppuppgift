{
 "cells": [
  {
   "cell_type": "code",
   "execution_count": 2,
   "id": "6b81842b",
   "metadata": {},
   "outputs": [
    {
     "name": "stdout",
     "output_type": "stream",
     "text": [
      "Overview of data input:\n",
      "-----------\n",
      "   order_id        date       city     category    price  units  revenue\n",
      "0    101847  2024-01-01  Stockholm     Clothing   309.63      6  1857.78\n",
      "1    100120  2024-01-01      Malmö         Home   502.33      2  1004.66\n",
      "2    100609  2024-01-01      Malmö     Clothing   480.18      3  1440.54\n",
      "3    100516  2024-01-01   Västerås  Electronics  1037.70      4  4150.80\n",
      "4    101939  2024-01-01   Göteborg       Sports   315.92      7  2211.44\n",
      "-----------\n",
      "Number of rows and columns: (2500, 7)\n",
      "-----------\n",
      "        order_id    price    units  revenue\n",
      "count    2500.00  2500.00  2500.00  2500.00\n",
      "mean   101249.50   476.21     2.99  1401.11\n",
      "std       721.83   312.97     1.43  1166.94\n",
      "min    100000.00    50.00     1.00    50.00\n",
      "25%    100624.75   254.96     2.00   577.96\n",
      "50%    101249.50   413.04     3.00  1088.69\n",
      "75%    101874.25   624.43     4.00  1884.75\n",
      "max    102499.00  2092.53     9.00  9192.60\n",
      "-----------\n"
     ]
    }
   ],
   "source": [
    "import pandas as pd\n",
    "\n",
    "df = pd.read_csv(\"../data/clean_data.csv\")\n",
    "\n",
    "# prints an overview of data inputs\n",
    "print(\"Overview of data input:\")\n",
    "print(\"-----------\")\n",
    "print(df.head())\n",
    "print(\"-----------\")\n",
    "print(\"Number of rows and columns:\", df.shape)\n",
    "print(\"-----------\")\n",
    "print(df.describe().round(2))\n",
    "print(\"-----------\")\n"
   ]
  },
  {
   "cell_type": "code",
   "execution_count": null,
   "id": "e711608f",
   "metadata": {},
   "outputs": [],
   "source": [
    "# prints a sumary of data status\n",
    "print(\"Summary of data status:\")\n",
    "print(\"-----------\")\n",
    "print(df.info())\n",
    "print(\"-----------\")\n",
    "print(df.isna().sum())\n",
    "print(\"-----------\")\n",
    "print(df.dtypes)\n",
    "print(\"-----------\")"
   ]
  }
 ],
 "metadata": {
  "kernelspec": {
   "display_name": ".venv",
   "language": "python",
   "name": "python3"
  },
  "language_info": {
   "codemirror_mode": {
    "name": "ipython",
    "version": 3
   },
   "file_extension": ".py",
   "mimetype": "text/x-python",
   "name": "python",
   "nbconvert_exporter": "python",
   "pygments_lexer": "ipython3",
   "version": "3.13.7"
  }
 },
 "nbformat": 4,
 "nbformat_minor": 5
}
