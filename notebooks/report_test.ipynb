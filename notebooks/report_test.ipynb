{
 "cells": [
  {
   "cell_type": "code",
   "execution_count": null,
   "id": "6b81842b",
   "metadata": {},
   "outputs": [],
   "source": [
    "import pandas as pd\n",
    "\n",
    "df = pd.read_csv(\"../data/clean_data.csv\")\n",
    "\n",
    "# prints an overview of data inputs\n",
    "print(\"Overview of data input:\")\n",
    "print(\"-----------\")\n",
    "print(df.head())\n",
    "print(\"-----------\")\n",
    "print(\"Number of rows and columns:\", df.shape)\n",
    "print(\"-----------\")\n",
    "print(df.describe().round(2))\n",
    "print(\"-----------\")\n"
   ]
  },
  {
   "cell_type": "code",
   "execution_count": null,
   "id": "e711608f",
   "metadata": {},
   "outputs": [],
   "source": [
    "# prints a sumary of data status\n",
    "print(\"Summary of data status:\")\n",
    "print(\"-----------\")\n",
    "print(df.info())\n",
    "print(\"-----------\")\n",
    "print(df.isna().sum())\n",
    "print(\"-----------\")\n",
    "print(df.dtypes)\n",
    "print(\"-----------\")"
   ]
  }
 ],
 "metadata": {
  "kernelspec": {
   "display_name": ".venv",
   "language": "python",
   "name": "python3"
  },
  "language_info": {
   "codemirror_mode": {
    "name": "ipython",
    "version": 3
   },
   "file_extension": ".py",
   "mimetype": "text/x-python",
   "name": "python",
   "nbconvert_exporter": "python",
   "pygments_lexer": "ipython3",
   "version": "3.13.7"
  }
 },
 "nbformat": 4,
 "nbformat_minor": 5
}
