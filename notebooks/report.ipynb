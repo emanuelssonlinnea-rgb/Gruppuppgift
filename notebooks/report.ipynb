{
 "cells": [
  {
   "cell_type": "markdown",
   "id": "83cc277d",
   "metadata": {},
   "source": [
    "# Säljrapport"
   ]
  },
  {
   "cell_type": "markdown",
   "id": "2f4f571a",
   "metadata": {},
   "source": [
    "*Förslag på rapportstruktur*\n",
    "\n",
    "## Introduktion\n",
    "\n",
    "Här skriver vi en kort introduktion. \n",
    "\n",
    "## Nyckeltal\n",
    "\n",
    "Här visualiserar vi våra nyckeltal.\n",
    "\n",
    "1. Vad säljer? – vilka kategorier driver mest intäkt?\n",
    "        - **Nyckeltal:** Total intäkt och totalt antal enheter & Intäkt per kategori\n",
    "\n",
    "2. Var säljer vi? – vilka städer står för störst intäkt?\n",
    "        - **Nyckeltal:** Intäkt per stad\n",
    "\n",
    "3. När säljer vi? – finns tidsmönster/säsong i försäljningen?\n",
    "        - **Nyckeltal:** TBD\n",
    "\n",
    "4. Hur ser en typisk order ut? – AOV (Average Order Value) och spridning.\n",
    "        - **Nyckeltal:** AOV (Average Order Value)\n",
    "\n",
    "5. Topp-listor – topp-3 kategorier efter intäkt.\n",
    "        - **Nyckeltal:** Top-3 kategorier efter intäkt\n",
    "\n",
    "6. Eventuella avvikelser – något oväntat mönster som sticker ut?\n",
    "        - *Insikter om avvikelser som går att utläsa från sammanställning av datan ovan* \n",
    "\n",
    "\n",
    "## Rekommendationer\n",
    "\n",
    "Avsluta rapporten med 2–3 korta rekommendationer (punktlista) baserat på era resultat, t.ex. “Satsa på kategori X i stad Y under månad Z”."
   ]
  }
 ],
 "metadata": {
  "kernelspec": {
   "display_name": "Python 3",
   "language": "python",
   "name": "python3"
  },
  "language_info": {
   "name": "python",
   "version": "3.13.7"
  }
 },
 "nbformat": 4,
 "nbformat_minor": 5
}
