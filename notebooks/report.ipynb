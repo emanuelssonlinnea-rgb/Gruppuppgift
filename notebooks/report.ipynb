{
 "cells": [
  {
   "cell_type": "markdown",
   "id": "83cc277d",
   "metadata": {},
   "source": [
    "# Säljrapport"
   ]
  },
  {
   "cell_type": "markdown",
   "id": "2f4f571a",
   "metadata": {},
   "source": [
    "*Förslag på rapportstruktur*\n",
    "\n",
    "## Introduktion\n",
    "\n",
    "Här skriver vi en kort introduktion. "
   ]
  },
  {
   "cell_type": "markdown",
   "id": "556f2b54",
   "metadata": {},
   "source": [
    "## Nyckeltal\n",
    "\n",
    "Här visualiserar vi våra nyckeltal."
   ]
  },
  {
   "cell_type": "markdown",
   "id": "f9528f2e",
   "metadata": {},
   "source": [
    "### 1. Vad säljer? – vilka kategorier driver mest intäkt?\n",
    "\n",
    "**Nyckeltal:** Total intäkt och totalt antal enheter & Intäkt per kategori"
   ]
  },
  {
   "cell_type": "markdown",
   "id": "f6d4a18d",
   "metadata": {},
   "source": [
    "### 2. Var säljer vi? – vilka städer står för störst intäkt?\n",
    "\n",
    "**Nyckeltal:** Intäkt per stad "
   ]
  },
  {
   "cell_type": "markdown",
   "id": "33d3b31f",
   "metadata": {},
   "source": [
    "### 3. När säljer vi? – finns tidsmönster/säsong i försäljningen?\n",
    "\n",
    " **Nyckeltal:** TBD"
   ]
  },
  {
   "cell_type": "markdown",
   "id": "72a3048c",
   "metadata": {},
   "source": [
    "### 4. Hur ser en typisk order ut? – AOV (Average Order Value) och spridning.\n",
    "\n",
    "**Nyckeltal:** AOV (Average Order Value)"
   ]
  },
  {
   "cell_type": "markdown",
   "id": "ce0d514a",
   "metadata": {},
   "source": [
    "### 5. Topp-listor – topp-3 kategorier efter intäkt.\n",
    "\n",
    "**Nyckeltal:** Top-3 kategorier efter intäkt"
   ]
  },
  {
   "cell_type": "markdown",
   "id": "13bf02cc",
   "metadata": {},
   "source": [
    "### 6. Eventuella avvikelser – något oväntat mönster som sticker ut?\n",
    "\n",
    "*Insikter om avvikelser som går att utläsa från sammanställning av datan ovan*"
   ]
  },
  {
   "cell_type": "markdown",
   "id": "59e0507e",
   "metadata": {},
   "source": [
    "## Rekommendationer\n",
    "\n",
    "Avsluta rapporten med 2–3 korta rekommendationer (punktlista) baserat på era resultat, t.ex. “Satsa på kategori X i stad Y under månad Z”."
   ]
  },
  {
   "cell_type": "markdown",
   "id": "08489bb3",
   "metadata": {},
   "source": [
    "## Helpers"
   ]
  },
  {
   "cell_type": "markdown",
   "id": "94d6fe2e",
   "metadata": {},
   "source": [
    "### Uträkningar\n",
    "\n",
    "Här lägger vi in våra uträkningar för att räkna fram våra nyckeltal"
   ]
  },
  {
   "cell_type": "code",
   "execution_count": null,
   "id": "c33da89d",
   "metadata": {},
   "outputs": [],
   "source": [
    "import pandas as pd\n",
    "\n",
    "# Read the data\n",
    "df = pd.read_csv(\"../data/clean_data.csv\")\n",
    "\n",
    "# Calculating total AOV for the period\n",
    "total_aov = df[\"revenue\"].sum() / df[\"order_id\"].count()\n",
    "total_aov_rounded = round(total_aov)\n",
    "\n",
    "# Checkimg order date is actually a datetime type\n",
    "df[\"date\"] = pd.to_datetime(df[\"date\"])\n",
    "\n",
    "# Extracting month to get AOV per month\n",
    "df[\"month\"] = df[\"date\"].dt.to_period(\"M\")\n",
    "\n",
    "# Group by month and calculate AOV, round to whole number\n",
    "monthly_aov = (df.groupby(\"month\")\n",
    "               .apply(lambda x: x[\"revenue\"].sum() / x[\"order_id\"].count())\n",
    "                      .reset_index(name=\"AOV\")\n",
    "                      )\n",
    "\n",
    "monthly_aov_rounded = round(monthly_aov)\n",
    "\n",
    "# Sorting by month\n",
    "monthly_aov_rounded = monthly_aov_rounded.sort_values(\"month\")\n",
    "\n",
    "print(\"Total AOV in the period:\", total_aov_rounded)\n",
    "print(monthly_aov_rounded)"
   ]
  },
  {
   "cell_type": "markdown",
   "id": "e8dc5bd3",
   "metadata": {},
   "source": [
    "### Data Cleaning\n",
    "\n",
    "Här lägger vi in vår kod (fr io_utils) som städar upp datan"
   ]
  },
  {
   "cell_type": "markdown",
   "id": "047565c5",
   "metadata": {},
   "source": []
  }
 ],
 "metadata": {
  "kernelspec": {
   "display_name": ".venv",
   "language": "python",
   "name": "python3"
  },
  "language_info": {
   "codemirror_mode": {
    "name": "ipython",
    "version": 3
   },
   "file_extension": ".py",
   "mimetype": "text/x-python",
   "name": "python",
   "nbconvert_exporter": "python",
   "pygments_lexer": "ipython3",
   "version": "3.13.7"
  }
 },
 "nbformat": 4,
 "nbformat_minor": 5
}
