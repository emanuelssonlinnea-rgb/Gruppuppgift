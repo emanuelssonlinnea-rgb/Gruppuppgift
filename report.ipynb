{
 "cells": [
  {
   "cell_type": "markdown",
   "id": "83cc277d",
   "metadata": {},
   "source": [
    "# Säljrapport"
   ]
  },
  {
   "cell_type": "markdown",
   "id": "2f4f571a",
   "metadata": {},
   "source": [
    "*Förslag på rapportstruktur*\n",
    "\n",
    "## Introduktion\n",
    "\n",
    "Här skriver vi en kort introduktion. "
   ]
  },
  {
   "cell_type": "code",
   "execution_count": null,
   "id": "77fb3233",
   "metadata": {},
   "outputs": [],
   "source": [
    "import matplotlib.pyplot as plt\n",
    "from src.io_utils import *\n",
    "from src.metrics import *\n",
    "from src.viz import *\n",
    "\n",
    "# Read\n",
    "df = read_data(\"data/ecommerce_sales.csv\")\n",
    "\n",
    "# Clean\n",
    "df_clean = clean_data(df)\n",
    "\n",
    "print(df_clean.sample(3))"
   ]
  },
  {
   "cell_type": "markdown",
   "id": "556f2b54",
   "metadata": {},
   "source": [
    "## Nyckeltal\n",
    "\n",
    "Här visualiserar vi våra nyckeltal."
   ]
  },
  {
   "cell_type": "markdown",
   "id": "f9528f2e",
   "metadata": {},
   "source": [
    "### 1. Vad säljer? – vilka kategorier driver mest intäkt?\n",
    "\n",
    "**Nyckeltal:** Total intäkt och totalt antal enheter & Intäkt per kategori"
   ]
  },
  {
   "cell_type": "markdown",
   "id": "f6d4a18d",
   "metadata": {},
   "source": [
    "### 2. Var säljer vi? – vilka städer står för störst intäkt?\n",
    "\n",
    "**Nyckeltal:** Intäkt per stad "
   ]
  },
  {
   "cell_type": "code",
   "execution_count": null,
   "id": "b2c4fee4",
   "metadata": {},
   "outputs": [],
   "source": [
    "df_rev_city = revenue_per_city(df_clean)\n",
    "print(f\"The top 3 cities per revenue are:\\n\"\n",
    "      f\"{df_rev_city.head(3)}.\")\n",
    "\n",
    "fig, ax = plt.subplots(figsize=(7,5))\n",
    "bar(ax, df_rev_city[\"city\"], df_rev_city[\"tot_rev_city\"], \"Revenue per City\", \"City\", \"Revenue\", color=\"#4682B4\")"
   ]
  },
  {
   "cell_type": "markdown",
   "id": "33d3b31f",
   "metadata": {},
   "source": [
    "### 3. När säljer vi? – finns tidsmönster/säsong i försäljningen?\n",
    "\n",
    " **Nyckeltal:** TBD"
   ]
  },
  {
   "cell_type": "code",
   "execution_count": null,
   "id": "3458acc3",
   "metadata": {},
   "outputs": [],
   "source": [
    "\n",
    "from src.metrics  import  revenue_over_time\n",
    "\n",
    "#revenue_over_time(df_clean)\n",
    "\n",
    "ts_month = revenue_over_time(df_clean)\n",
    "ts_month.head()\n",
    "\n"
   ]
  },
  {
   "cell_type": "code",
   "execution_count": null,
   "id": "276f46c9",
   "metadata": {},
   "outputs": [],
   "source": [
    "from src.metrics import revenue_over_time, total_revenue\n",
    "from src.viz import revenue_monthly_bar\n",
    "\n",
    "# revenue_total = V.revenue_total(df_clean)\n",
    "# revenue_by_month = V.revenue_by_month(df_clean),\n",
    "# revenue_total, revenue_by_month\n",
    "\n",
    "fig, ax = plt.subplots(figsize=(9,4))\n",
    "#revenue_monthly_bar(ax, revenue_over_time[\"month\"], total_revenue[\"revenue\"], \"Revenue by month\", \"Month\", \"Revenue\")"
   ]
  },
  {
   "cell_type": "markdown",
   "id": "72a3048c",
   "metadata": {},
   "source": [
    "### 4. Hur ser en typisk order ut? – AOV (Average Order Value) och spridning.\n",
    "\n",
    "**Nyckeltal:** AOV (Average Order Value)"
   ]
  },
  {
   "cell_type": "code",
   "execution_count": null,
   "id": "288b5401",
   "metadata": {},
   "outputs": [],
   "source": [
    "# Calculating AOV data\n",
    "monthly_aov, total_aov, category_aov, city_aov = calculate_aov(df_clean)\n",
    "# Plotting the AOV data\n",
    "plot_aov_figure(monthly_aov, total_aov, category_aov, city_aov)"
   ]
  },
  {
   "cell_type": "markdown",
   "id": "ce0d514a",
   "metadata": {},
   "source": [
    "### 5. Topp-listor – topp-3 kategorier efter intäkt.\n",
    "\n",
    "**Nyckeltal:** Top-3 kategorier efter intäkt"
   ]
  },
  {
   "cell_type": "markdown",
   "id": "13bf02cc",
   "metadata": {},
   "source": [
    "### 6. Eventuella avvikelser – något oväntat mönster som sticker ut?\n",
    "\n",
    "*Insikter om avvikelser som går att utläsa från sammanställning av datan ovan*"
   ]
  },
  {
   "cell_type": "markdown",
   "id": "59e0507e",
   "metadata": {},
   "source": [
    "## Rekommendationer\n",
    "\n",
    "Avsluta rapporten med 2–3 korta rekommendationer (punktlista) baserat på era resultat, t.ex. “Satsa på kategori X i stad Y under månad Z”."
   ]
  }
 ],
 "metadata": {
  "kernelspec": {
   "display_name": ".venv",
   "language": "python",
   "name": "python3"
  },
  "language_info": {
   "codemirror_mode": {
    "name": "ipython",
    "version": 3
   },
   "file_extension": ".py",
   "mimetype": "text/x-python",
   "name": "python",
   "nbconvert_exporter": "python",
   "pygments_lexer": "ipython3",
   "version": "3.13.7"
  }
 },
 "nbformat": 4,
 "nbformat_minor": 5
}
