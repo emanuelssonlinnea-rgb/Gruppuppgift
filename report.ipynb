{
 "cells": [
  {
   "cell_type": "markdown",
   "id": "83cc277d",
   "metadata": {},
   "source": [
    "# Säljrapport"
   ]
  },
  {
   "cell_type": "markdown",
   "id": "2f4f571a",
   "metadata": {},
   "source": [
    "*Förslag på rapportstruktur*\n",
    "\n",
    "## Introduktion\n",
    "\n",
    "Här skriver vi en kort introduktion. "
   ]
  },
  {
   "cell_type": "code",
   "execution_count": 1,
   "id": "77fb3233",
   "metadata": {},
   "outputs": [
    {
     "data": {
      "application/vnd.microsoft.datawrangler.viewer.v0+json": {
       "columns": [
        {
         "name": "index",
         "rawType": "int64",
         "type": "integer"
        },
        {
         "name": "order_id",
         "rawType": "category",
         "type": "unknown"
        },
        {
         "name": "date",
         "rawType": "datetime64[ns]",
         "type": "datetime"
        },
        {
         "name": "city",
         "rawType": "category",
         "type": "unknown"
        },
        {
         "name": "category",
         "rawType": "category",
         "type": "unknown"
        },
        {
         "name": "price",
         "rawType": "float64",
         "type": "float"
        },
        {
         "name": "units",
         "rawType": "int64",
         "type": "integer"
        },
        {
         "name": "revenue",
         "rawType": "float64",
         "type": "float"
        },
        {
         "name": "month",
         "rawType": "datetime64[ns]",
         "type": "datetime"
        },
        {
         "name": "week",
         "rawType": "datetime64[ns]",
         "type": "datetime"
        }
       ],
       "ref": "45e98421-89d6-4883-81a1-2ab362ae829a",
       "rows": [
        [
         "1847",
         "101847",
         "2024-01-01 00:00:00",
         "Stockholm",
         "Clothing",
         "309.63",
         "6",
         "1857.78",
         "2024-01-01 00:00:00",
         "2024-01-01 00:00:00"
        ],
        [
         "120",
         "100120",
         "2024-01-01 00:00:00",
         "Malmö",
         "Home",
         "502.33",
         "2",
         "1004.66",
         "2024-01-01 00:00:00",
         "2024-01-01 00:00:00"
        ],
        [
         "609",
         "100609",
         "2024-01-01 00:00:00",
         "Malmö",
         "Clothing",
         "480.18",
         "3",
         "1440.54",
         "2024-01-01 00:00:00",
         "2024-01-01 00:00:00"
        ],
        [
         "516",
         "100516",
         "2024-01-01 00:00:00",
         "Västerås",
         "Electronics",
         "1037.7",
         "4",
         "4150.8",
         "2024-01-01 00:00:00",
         "2024-01-01 00:00:00"
        ],
        [
         "1939",
         "101939",
         "2024-01-01 00:00:00",
         "Göteborg",
         "Sports",
         "315.92",
         "7",
         "2211.44",
         "2024-01-01 00:00:00",
         "2024-01-01 00:00:00"
        ]
       ],
       "shape": {
        "columns": 9,
        "rows": 5
       }
      },
      "text/html": [
       "<div>\n",
       "<style scoped>\n",
       "    .dataframe tbody tr th:only-of-type {\n",
       "        vertical-align: middle;\n",
       "    }\n",
       "\n",
       "    .dataframe tbody tr th {\n",
       "        vertical-align: top;\n",
       "    }\n",
       "\n",
       "    .dataframe thead th {\n",
       "        text-align: right;\n",
       "    }\n",
       "</style>\n",
       "<table border=\"1\" class=\"dataframe\">\n",
       "  <thead>\n",
       "    <tr style=\"text-align: right;\">\n",
       "      <th></th>\n",
       "      <th>order_id</th>\n",
       "      <th>date</th>\n",
       "      <th>city</th>\n",
       "      <th>category</th>\n",
       "      <th>price</th>\n",
       "      <th>units</th>\n",
       "      <th>revenue</th>\n",
       "      <th>month</th>\n",
       "      <th>week</th>\n",
       "    </tr>\n",
       "  </thead>\n",
       "  <tbody>\n",
       "    <tr>\n",
       "      <th>1847</th>\n",
       "      <td>101847</td>\n",
       "      <td>2024-01-01</td>\n",
       "      <td>Stockholm</td>\n",
       "      <td>Clothing</td>\n",
       "      <td>309.63</td>\n",
       "      <td>6</td>\n",
       "      <td>1857.78</td>\n",
       "      <td>2024-01-01</td>\n",
       "      <td>2024-01-01</td>\n",
       "    </tr>\n",
       "    <tr>\n",
       "      <th>120</th>\n",
       "      <td>100120</td>\n",
       "      <td>2024-01-01</td>\n",
       "      <td>Malmö</td>\n",
       "      <td>Home</td>\n",
       "      <td>502.33</td>\n",
       "      <td>2</td>\n",
       "      <td>1004.66</td>\n",
       "      <td>2024-01-01</td>\n",
       "      <td>2024-01-01</td>\n",
       "    </tr>\n",
       "    <tr>\n",
       "      <th>609</th>\n",
       "      <td>100609</td>\n",
       "      <td>2024-01-01</td>\n",
       "      <td>Malmö</td>\n",
       "      <td>Clothing</td>\n",
       "      <td>480.18</td>\n",
       "      <td>3</td>\n",
       "      <td>1440.54</td>\n",
       "      <td>2024-01-01</td>\n",
       "      <td>2024-01-01</td>\n",
       "    </tr>\n",
       "    <tr>\n",
       "      <th>516</th>\n",
       "      <td>100516</td>\n",
       "      <td>2024-01-01</td>\n",
       "      <td>Västerås</td>\n",
       "      <td>Electronics</td>\n",
       "      <td>1037.70</td>\n",
       "      <td>4</td>\n",
       "      <td>4150.80</td>\n",
       "      <td>2024-01-01</td>\n",
       "      <td>2024-01-01</td>\n",
       "    </tr>\n",
       "    <tr>\n",
       "      <th>1939</th>\n",
       "      <td>101939</td>\n",
       "      <td>2024-01-01</td>\n",
       "      <td>Göteborg</td>\n",
       "      <td>Sports</td>\n",
       "      <td>315.92</td>\n",
       "      <td>7</td>\n",
       "      <td>2211.44</td>\n",
       "      <td>2024-01-01</td>\n",
       "      <td>2024-01-01</td>\n",
       "    </tr>\n",
       "  </tbody>\n",
       "</table>\n",
       "</div>"
      ],
      "text/plain": [
       "     order_id       date       city     category    price  units  revenue  \\\n",
       "1847   101847 2024-01-01  Stockholm     Clothing   309.63      6  1857.78   \n",
       "120    100120 2024-01-01      Malmö         Home   502.33      2  1004.66   \n",
       "609    100609 2024-01-01      Malmö     Clothing   480.18      3  1440.54   \n",
       "516    100516 2024-01-01   Västerås  Electronics  1037.70      4  4150.80   \n",
       "1939   101939 2024-01-01   Göteborg       Sports   315.92      7  2211.44   \n",
       "\n",
       "          month       week  \n",
       "1847 2024-01-01 2024-01-01  \n",
       "120  2024-01-01 2024-01-01  \n",
       "609  2024-01-01 2024-01-01  \n",
       "516  2024-01-01 2024-01-01  \n",
       "1939 2024-01-01 2024-01-01  "
      ]
     },
     "execution_count": 1,
     "metadata": {},
     "output_type": "execute_result"
    }
   ],
   "source": [
    "import pandas as pd\n",
    "import matplotlib.pyplot as plt\n",
    "from src.io_utils import load_data, clean_data, save_data\n",
    "\n",
    "# Load\n",
    "df_raw = load_data(\"data/ecommerce_sales.csv\")\n",
    "\n",
    "# Clean\n",
    "df_clean = clean_data(df_raw)\n",
    "\n",
    "# Save\n",
    "save_data(df_clean, \"data/clean_data.csv\")\n",
    "\n",
    "df_clean.head()"
   ]
  },
  {
   "cell_type": "markdown",
   "id": "556f2b54",
   "metadata": {},
   "source": [
    "## Nyckeltal\n",
    "\n",
    "Här visualiserar vi våra nyckeltal."
   ]
  },
  {
   "cell_type": "markdown",
   "id": "f9528f2e",
   "metadata": {},
   "source": [
    "### 1. Vad säljer? – vilka kategorier driver mest intäkt?\n",
    "\n",
    "**Nyckeltal:** Total intäkt och totalt antal enheter & Intäkt per kategori"
   ]
  },
  {
   "cell_type": "markdown",
   "id": "f6d4a18d",
   "metadata": {},
   "source": [
    "### 2. Var säljer vi? – vilka städer står för störst intäkt?\n",
    "\n",
    "**Nyckeltal:** Intäkt per stad "
   ]
  },
  {
   "cell_type": "code",
   "execution_count": 2,
   "id": "b2c4fee4",
   "metadata": {},
   "outputs": [
    {
     "name": "stdout",
     "output_type": "stream",
     "text": [
      "Top 3 cities per sales:\n",
      "        city  total_revenue\n",
      "0  Stockholm     1227201.94\n",
      "1   Göteborg      859019.65\n",
      "2      Malmö      567926.32\n",
      "\n"
     ]
    }
   ],
   "source": [
    "from src.metrics import revenue_per_city, top3_cities\n",
    "from src.viz import plot_tot_revenue_per_city\n",
    "\n",
    "print(\"Top 3 cities per sales:\")\n",
    "print(top3_cities(df_clean))\n",
    "\n",
    "print()\n"
   ]
  },
  {
   "cell_type": "markdown",
   "id": "33d3b31f",
   "metadata": {},
   "source": [
    "### 3. När säljer vi? – finns tidsmönster/säsong i försäljningen?\n",
    "\n",
    " **Nyckeltal:** TBD"
   ]
  },
  {
   "cell_type": "code",
   "execution_count": 3,
   "id": "3458acc3",
   "metadata": {},
   "outputs": [
    {
     "name": "stderr",
     "output_type": "stream",
     "text": [
      "c:\\Users\\Mauro\\Desktop\\Gruppuppgift -Linnéa branch\\Gruppuppgift\\src\\metrics.py:130: FutureWarning: 'M' is deprecated and will be removed in a future version, please use 'ME' instead.\n",
      "  .resample(freq)[\"revenue\"]\n"
     ]
    },
    {
     "data": {
      "application/vnd.microsoft.datawrangler.viewer.v0+json": {
       "columns": [
        {
         "name": "index",
         "rawType": "int64",
         "type": "integer"
        },
        {
         "name": "month",
         "rawType": "object",
         "type": "string"
        },
        {
         "name": "revenue",
         "rawType": "int64",
         "type": "integer"
        }
       ],
       "ref": "3e70db2c-911c-498c-bb32-693bfecadfe6",
       "rows": [
        [
         "0",
         "2024-01",
         "438"
        ],
        [
         "1",
         "2024-02",
         "352"
        ],
        [
         "2",
         "2024-03",
         "402"
        ],
        [
         "3",
         "2024-04",
         "423"
        ],
        [
         "4",
         "2024-05",
         "422"
        ]
       ],
       "shape": {
        "columns": 2,
        "rows": 5
       }
      },
      "text/html": [
       "<div>\n",
       "<style scoped>\n",
       "    .dataframe tbody tr th:only-of-type {\n",
       "        vertical-align: middle;\n",
       "    }\n",
       "\n",
       "    .dataframe tbody tr th {\n",
       "        vertical-align: top;\n",
       "    }\n",
       "\n",
       "    .dataframe thead th {\n",
       "        text-align: right;\n",
       "    }\n",
       "</style>\n",
       "<table border=\"1\" class=\"dataframe\">\n",
       "  <thead>\n",
       "    <tr style=\"text-align: right;\">\n",
       "      <th></th>\n",
       "      <th>month</th>\n",
       "      <th>revenue</th>\n",
       "    </tr>\n",
       "  </thead>\n",
       "  <tbody>\n",
       "    <tr>\n",
       "      <th>0</th>\n",
       "      <td>2024-01</td>\n",
       "      <td>438</td>\n",
       "    </tr>\n",
       "    <tr>\n",
       "      <th>1</th>\n",
       "      <td>2024-02</td>\n",
       "      <td>352</td>\n",
       "    </tr>\n",
       "    <tr>\n",
       "      <th>2</th>\n",
       "      <td>2024-03</td>\n",
       "      <td>402</td>\n",
       "    </tr>\n",
       "    <tr>\n",
       "      <th>3</th>\n",
       "      <td>2024-04</td>\n",
       "      <td>423</td>\n",
       "    </tr>\n",
       "    <tr>\n",
       "      <th>4</th>\n",
       "      <td>2024-05</td>\n",
       "      <td>422</td>\n",
       "    </tr>\n",
       "  </tbody>\n",
       "</table>\n",
       "</div>"
      ],
      "text/plain": [
       "     month  revenue\n",
       "0  2024-01      438\n",
       "1  2024-02      352\n",
       "2  2024-03      402\n",
       "3  2024-04      423\n",
       "4  2024-05      422"
      ]
     },
     "execution_count": 3,
     "metadata": {},
     "output_type": "execute_result"
    }
   ],
   "source": [
    "\n",
    "from src.metrics  import  revenue_over_time\n",
    "\n",
    "#revenue_over_time(df_clean)\n",
    "\n",
    "ts_month = revenue_over_time(df_clean)\n",
    "ts_month.head()\n",
    "\n"
   ]
  },
  {
   "cell_type": "code",
   "execution_count": 6,
   "id": "276f46c9",
   "metadata": {},
   "outputs": [
    {
     "data": {
      "image/png": "[encoded data removed]",
      "text/plain": [
       "<Figure size 900x400 with 1 Axes>"
      ]
     },
     "metadata": {},
     "output_type": "display_data"
    }
   ],
   "source": [
    "from src.metrics import revenue_over_time, total_revenue\n",
    "from src.viz import revenue_monthly_bar\n",
    "\n",
    "# revenue_total = V.revenue_total(df_clean)\n",
    "# revenue_by_month = V.revenue_by_month(df_clean),\n",
    "# revenue_total, revenue_by_month\n",
    "\n",
    "fig, ax = plt.subplots(figsize=(9,4))\n",
    "#revenue_monthly_bar(ax, revenue_over_time[\"month\"], total_revenue[\"revenue\"], \"Revenue by month\", \"Month\", \"Revenue\")"
   ]
  },
  {
   "cell_type": "markdown",
   "id": "72a3048c",
   "metadata": {},
   "source": [
    "### 4. Hur ser en typisk order ut? – AOV (Average Order Value) och spridning.\n",
    "\n",
    "**Nyckeltal:** AOV (Average Order Value)"
   ]
  },
  {
   "cell_type": "code",
   "execution_count": 5,
   "id": "288b5401",
   "metadata": {},
   "outputs": [
    {
     "ename": "NameError",
     "evalue": "name 'calculate_aov' is not defined",
     "output_type": "error",
     "traceback": [
      "\u001b[31m---------------------------------------------------------------------------\u001b[39m",
      "\u001b[31mNameError\u001b[39m                                 Traceback (most recent call last)",
      "\u001b[36mCell\u001b[39m\u001b[36m \u001b[39m\u001b[32mIn[5]\u001b[39m\u001b[32m, line 4\u001b[39m\n\u001b[32m      1\u001b[39m \u001b[38;5;66;03m# WIP\u001b[39;00m\n\u001b[32m      3\u001b[39m \u001b[38;5;28;01mfrom\u001b[39;00m\u001b[38;5;250m \u001b[39m\u001b[34;01msrc\u001b[39;00m\u001b[34;01m.\u001b[39;00m\u001b[34;01mviz\u001b[39;00m\u001b[38;5;250m \u001b[39m\u001b[38;5;28;01mimport\u001b[39;00m plot_aov_figure\n\u001b[32m----> \u001b[39m\u001b[32m4\u001b[39m \u001b[43mplot_aov_figure\u001b[49m\u001b[43m(\u001b[49m\u001b[43mdf_clean\u001b[49m\u001b[43m)\u001b[49m\n",
      "\u001b[36mFile \u001b[39m\u001b[32mc:\\Users\\Mauro\\Desktop\\Gruppuppgift -Linnéa branch\\Gruppuppgift\\src\\viz.py:16\u001b[39m, in \u001b[36mplot_aov_figure\u001b[39m\u001b[34m(df)\u001b[39m\n\u001b[32m     15\u001b[39m \u001b[38;5;28;01mdef\u001b[39;00m\u001b[38;5;250m \u001b[39m\u001b[34mplot_aov_figure\u001b[39m(df: pd.DataFrame):\n\u001b[32m---> \u001b[39m\u001b[32m16\u001b[39m     monthly_aov, total_aov, category_aov, city_aov = \u001b[43mcalculate_aov\u001b[49m(df)\n\u001b[32m     18\u001b[39m     \u001b[38;5;66;03m# Skapar en figur med tre deldigram bredvid varandra\u001b[39;00m\n\u001b[32m     19\u001b[39m     fig, axes = plt.subplots(\u001b[32m1\u001b[39m, \u001b[32m3\u001b[39m, figsize=(\u001b[32m16\u001b[39m, \u001b[32m6\u001b[39m), sharex=\u001b[38;5;28;01mFalse\u001b[39;00m, sharey=\u001b[38;5;28;01mFalse\u001b[39;00m)\n",
      "\u001b[31mNameError\u001b[39m: name 'calculate_aov' is not defined"
     ]
    }
   ],
   "source": [
    "# WIP\n",
    "\n",
    "from src.viz import plot_aov_figure\n",
    "plot_aov_figure(df_clean)"
   ]
  },
  {
   "cell_type": "markdown",
   "id": "ce0d514a",
   "metadata": {},
   "source": [
    "### 5. Topp-listor – topp-3 kategorier efter intäkt.\n",
    "\n",
    "**Nyckeltal:** Top-3 kategorier efter intäkt"
   ]
  },
  {
   "cell_type": "markdown",
   "id": "13bf02cc",
   "metadata": {},
   "source": [
    "### 6. Eventuella avvikelser – något oväntat mönster som sticker ut?\n",
    "\n",
    "*Insikter om avvikelser som går att utläsa från sammanställning av datan ovan*"
   ]
  },
  {
   "cell_type": "markdown",
   "id": "59e0507e",
   "metadata": {},
   "source": [
    "## Rekommendationer\n",
    "\n",
    "Avsluta rapporten med 2–3 korta rekommendationer (punktlista) baserat på era resultat, t.ex. “Satsa på kategori X i stad Y under månad Z”."
   ]
  }
 ],
 "metadata": {
  "kernelspec": {
   "display_name": ".venv",
   "language": "python",
   "name": "python3"
  },
  "language_info": {
   "codemirror_mode": {
    "name": "ipython",
    "version": 3
   },
   "file_extension": ".py",
   "mimetype": "text/x-python",
   "name": "python",
   "nbconvert_exporter": "python",
   "pygments_lexer": "ipython3",
   "version": "3.13.7"
  }
 },
 "nbformat": 4,
 "nbformat_minor": 5
}
