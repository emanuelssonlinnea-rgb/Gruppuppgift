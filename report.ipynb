{
 "cells": [
  {
   "cell_type": "markdown",
   "id": "83cc277d",
   "metadata": {},
   "source": [
    "# Säljrapport"
   ]
  },
  {
   "cell_type": "markdown",
   "id": "2f4f571a",
   "metadata": {},
   "source": [
    "*Förslag på rapportstruktur*\n",
    "\n",
    "## Introduktion\n",
    "\n",
    "Här skriver vi en kort introduktion. "
   ]
  },
  {
   "cell_type": "code",
   "execution_count": 1,
   "id": "77fb3233",
   "metadata": {},
   "outputs": [
    {
     "data": {
      "application/vnd.microsoft.datawrangler.viewer.v0+json": {
       "columns": [
        {
         "name": "index",
         "rawType": "int64",
         "type": "integer"
        },
        {
         "name": "order_id",
         "rawType": "category",
         "type": "unknown"
        },
        {
         "name": "date",
         "rawType": "datetime64[ns]",
         "type": "datetime"
        },
        {
         "name": "city",
         "rawType": "category",
         "type": "unknown"
        },
        {
         "name": "category",
         "rawType": "category",
         "type": "unknown"
        },
        {
         "name": "price",
         "rawType": "float64",
         "type": "float"
        },
        {
         "name": "units",
         "rawType": "int64",
         "type": "integer"
        },
        {
         "name": "revenue",
         "rawType": "float64",
         "type": "float"
        },
        {
         "name": "month",
         "rawType": "datetime64[ns]",
         "type": "datetime"
        },
        {
         "name": "week",
         "rawType": "datetime64[ns]",
         "type": "datetime"
        }
       ],
       "ref": "cef8f268-b5d3-401a-a040-8c098a86d755",
       "rows": [
        [
         "1847",
         "101847",
         "2024-01-01 00:00:00",
         "Stockholm",
         "Clothing",
         "309.63",
         "6",
         "1857.78",
         "2024-01-01 00:00:00",
         "2024-01-01 00:00:00"
        ],
        [
         "120",
         "100120",
         "2024-01-01 00:00:00",
         "Malmö",
         "Home",
         "502.33",
         "2",
         "1004.66",
         "2024-01-01 00:00:00",
         "2024-01-01 00:00:00"
        ],
        [
         "609",
         "100609",
         "2024-01-01 00:00:00",
         "Malmö",
         "Clothing",
         "480.18",
         "3",
         "1440.54",
         "2024-01-01 00:00:00",
         "2024-01-01 00:00:00"
        ],
        [
         "516",
         "100516",
         "2024-01-01 00:00:00",
         "Västerås",
         "Electronics",
         "1037.7",
         "4",
         "4150.8",
         "2024-01-01 00:00:00",
         "2024-01-01 00:00:00"
        ],
        [
         "1939",
         "101939",
         "2024-01-01 00:00:00",
         "Göteborg",
         "Sports",
         "315.92",
         "7",
         "2211.44",
         "2024-01-01 00:00:00",
         "2024-01-01 00:00:00"
        ]
       ],
       "shape": {
        "columns": 9,
        "rows": 5
       }
      },
      "text/html": [
       "<div>\n",
       "<style scoped>\n",
       "    .dataframe tbody tr th:only-of-type {\n",
       "        vertical-align: middle;\n",
       "    }\n",
       "\n",
       "    .dataframe tbody tr th {\n",
       "        vertical-align: top;\n",
       "    }\n",
       "\n",
       "    .dataframe thead th {\n",
       "        text-align: right;\n",
       "    }\n",
       "</style>\n",
       "<table border=\"1\" class=\"dataframe\">\n",
       "  <thead>\n",
       "    <tr style=\"text-align: right;\">\n",
       "      <th></th>\n",
       "      <th>order_id</th>\n",
       "      <th>date</th>\n",
       "      <th>city</th>\n",
       "      <th>category</th>\n",
       "      <th>price</th>\n",
       "      <th>units</th>\n",
       "      <th>revenue</th>\n",
       "      <th>month</th>\n",
       "      <th>week</th>\n",
       "    </tr>\n",
       "  </thead>\n",
       "  <tbody>\n",
       "    <tr>\n",
       "      <th>1847</th>\n",
       "      <td>101847</td>\n",
       "      <td>2024-01-01</td>\n",
       "      <td>Stockholm</td>\n",
       "      <td>Clothing</td>\n",
       "      <td>309.63</td>\n",
       "      <td>6</td>\n",
       "      <td>1857.78</td>\n",
       "      <td>2024-01-01</td>\n",
       "      <td>2024-01-01</td>\n",
       "    </tr>\n",
       "    <tr>\n",
       "      <th>120</th>\n",
       "      <td>100120</td>\n",
       "      <td>2024-01-01</td>\n",
       "      <td>Malmö</td>\n",
       "      <td>Home</td>\n",
       "      <td>502.33</td>\n",
       "      <td>2</td>\n",
       "      <td>1004.66</td>\n",
       "      <td>2024-01-01</td>\n",
       "      <td>2024-01-01</td>\n",
       "    </tr>\n",
       "    <tr>\n",
       "      <th>609</th>\n",
       "      <td>100609</td>\n",
       "      <td>2024-01-01</td>\n",
       "      <td>Malmö</td>\n",
       "      <td>Clothing</td>\n",
       "      <td>480.18</td>\n",
       "      <td>3</td>\n",
       "      <td>1440.54</td>\n",
       "      <td>2024-01-01</td>\n",
       "      <td>2024-01-01</td>\n",
       "    </tr>\n",
       "    <tr>\n",
       "      <th>516</th>\n",
       "      <td>100516</td>\n",
       "      <td>2024-01-01</td>\n",
       "      <td>Västerås</td>\n",
       "      <td>Electronics</td>\n",
       "      <td>1037.70</td>\n",
       "      <td>4</td>\n",
       "      <td>4150.80</td>\n",
       "      <td>2024-01-01</td>\n",
       "      <td>2024-01-01</td>\n",
       "    </tr>\n",
       "    <tr>\n",
       "      <th>1939</th>\n",
       "      <td>101939</td>\n",
       "      <td>2024-01-01</td>\n",
       "      <td>Göteborg</td>\n",
       "      <td>Sports</td>\n",
       "      <td>315.92</td>\n",
       "      <td>7</td>\n",
       "      <td>2211.44</td>\n",
       "      <td>2024-01-01</td>\n",
       "      <td>2024-01-01</td>\n",
       "    </tr>\n",
       "  </tbody>\n",
       "</table>\n",
       "</div>"
      ],
      "text/plain": [
       "     order_id       date       city     category    price  units  revenue  \\\n",
       "1847   101847 2024-01-01  Stockholm     Clothing   309.63      6  1857.78   \n",
       "120    100120 2024-01-01      Malmö         Home   502.33      2  1004.66   \n",
       "609    100609 2024-01-01      Malmö     Clothing   480.18      3  1440.54   \n",
       "516    100516 2024-01-01   Västerås  Electronics  1037.70      4  4150.80   \n",
       "1939   101939 2024-01-01   Göteborg       Sports   315.92      7  2211.44   \n",
       "\n",
       "          month       week  \n",
       "1847 2024-01-01 2024-01-01  \n",
       "120  2024-01-01 2024-01-01  \n",
       "609  2024-01-01 2024-01-01  \n",
       "516  2024-01-01 2024-01-01  \n",
       "1939 2024-01-01 2024-01-01  "
      ]
     },
     "execution_count": 1,
     "metadata": {},
     "output_type": "execute_result"
    }
   ],
   "source": [
    "import pandas as pd\n",
    "import matplotlib.pyplot as plt\n",
    "from src.io_utils import load_data, clean_data, save_data\n",
    "\n",
    "# Load\n",
    "df_raw = load_data(\"data/ecommerce_sales.csv\")\n",
    "\n",
    "# Clean\n",
    "df_clean = clean_data(df_raw)\n",
    "\n",
    "# Save\n",
    "save_data(df_clean, \"data/clean_data.csv\")\n",
    "\n",
    "df_clean.head()"
   ]
  },
  {
   "cell_type": "markdown",
   "id": "556f2b54",
   "metadata": {},
   "source": [
    "## Nyckeltal\n",
    "\n",
    "Här visualiserar vi våra nyckeltal."
   ]
  },
  {
   "cell_type": "code",
   "execution_count": null,
   "id": "010bbf0e",
   "metadata": {},
   "outputs": [],
   "source": []
  },
  {
   "cell_type": "markdown",
   "id": "f9528f2e",
   "metadata": {},
   "source": [
    "### 1. Vad säljer? – vilka kategorier driver mest intäkt?\n",
    "\n",
    "**Nyckeltal:** Total intäkt och totalt antal enheter & Intäkt per kategori"
   ]
  },
  {
   "cell_type": "markdown",
   "id": "f6d4a18d",
   "metadata": {},
   "source": [
    "### 2. Var säljer vi? – vilka städer står för störst intäkt?\n",
    "\n",
    "**Nyckeltal:** Intäkt per stad "
   ]
  },
  {
   "cell_type": "code",
   "execution_count": 2,
   "id": "b2c4fee4",
   "metadata": {},
   "outputs": [
    {
     "name": "stderr",
     "output_type": "stream",
     "text": [
      "c:\\Users\\Mauro\\Desktop\\Gruppuppgift -Linnéa branch\\Gruppuppgift\\src\\metrics.py:52: FutureWarning: DataFrameGroupBy.apply operated on the grouping columns. This behavior is deprecated, and in a future version of pandas the grouping columns will be excluded from the operation. Either pass `include_groups=False` to exclude the groupings or explicitly select the grouping columns after groupby to silence this warning.\n",
      "  .apply(lambda x: x[\"revenue\"].sum() / x[\"order_id\"].nunique())\n",
      "c:\\Users\\Mauro\\Desktop\\Gruppuppgift -Linnéa branch\\Gruppuppgift\\src\\metrics.py:63: FutureWarning: DataFrameGroupBy.apply operated on the grouping columns. This behavior is deprecated, and in a future version of pandas the grouping columns will be excluded from the operation. Either pass `include_groups=False` to exclude the groupings or explicitly select the grouping columns after groupby to silence this warning.\n",
      "  .apply(lambda x: x[\"revenue\"].sum() / x[\"order_id\"].nunique())\n",
      "c:\\Users\\Mauro\\Desktop\\Gruppuppgift -Linnéa branch\\Gruppuppgift\\src\\metrics.py:72: FutureWarning: DataFrameGroupBy.apply operated on the grouping columns. This behavior is deprecated, and in a future version of pandas the grouping columns will be excluded from the operation. Either pass `include_groups=False` to exclude the groupings or explicitly select the grouping columns after groupby to silence this warning.\n",
      "  .apply(lambda x: x[\"revenue\"].sum() / x[\"order_id\"].nunique())\n"
     ]
    },
    {
     "ename": "ValueError",
     "evalue": "too many values to unpack (expected 2)",
     "output_type": "error",
     "traceback": [
      "\u001b[31m---------------------------------------------------------------------------\u001b[39m",
      "\u001b[31mValueError\u001b[39m                                Traceback (most recent call last)",
      "\u001b[36mCell\u001b[39m\u001b[36m \u001b[39m\u001b[32mIn[2]\u001b[39m\u001b[32m, line 2\u001b[39m\n\u001b[32m      1\u001b[39m \u001b[38;5;28;01mfrom\u001b[39;00m\u001b[38;5;250m \u001b[39m\u001b[34;01msrc\u001b[39;00m\u001b[34;01m.\u001b[39;00m\u001b[34;01mmetrics\u001b[39;00m\u001b[38;5;250m \u001b[39m\u001b[38;5;28;01mimport\u001b[39;00m revenue_per_city, top3_cities\n\u001b[32m----> \u001b[39m\u001b[32m2\u001b[39m \u001b[38;5;28;01mfrom\u001b[39;00m\u001b[38;5;250m \u001b[39m\u001b[34;01msrc\u001b[39;00m\u001b[34;01m.\u001b[39;00m\u001b[34;01mviz\u001b[39;00m\u001b[38;5;250m \u001b[39m\u001b[38;5;28;01mimport\u001b[39;00m plot_tot_revenue_per_city\n\u001b[32m      4\u001b[39m \u001b[38;5;28mprint\u001b[39m(\u001b[33m\"\u001b[39m\u001b[33mTop 3 cities per sales:\u001b[39m\u001b[33m\"\u001b[39m)\n\u001b[32m      5\u001b[39m \u001b[38;5;28mprint\u001b[39m(top3_cities(df_clean))\n",
      "\u001b[36mFile \u001b[39m\u001b[32mc:\\Users\\Mauro\\Desktop\\Gruppuppgift -Linnéa branch\\Gruppuppgift\\src\\viz.py:14\u001b[39m\n\u001b[32m     10\u001b[39m \u001b[38;5;66;03m#------------AOV I EN FIGUR--------------\u001b[39;00m\n\u001b[32m     11\u001b[39m \n\u001b[32m     12\u001b[39m \u001b[38;5;66;03m# hämtar datan från beräkningsfilen\u001b[39;00m\n\u001b[32m     13\u001b[39m \u001b[38;5;28;01mfrom\u001b[39;00m\u001b[38;5;250m \u001b[39m\u001b[34;01msrc\u001b[39;00m\u001b[34;01m.\u001b[39;00m\u001b[34;01mmetrics\u001b[39;00m\u001b[38;5;250m \u001b[39m\u001b[38;5;28;01mimport\u001b[39;00m calculate_aov \n\u001b[32m---> \u001b[39m\u001b[32m14\u001b[39m monthly_aov, total_aov = calculate_aov()\n\u001b[32m     16\u001b[39m \u001b[38;5;28;01mdef\u001b[39;00m\u001b[38;5;250m \u001b[39m\u001b[34mplot_aov_figure\u001b[39m(df):\n\u001b[32m     17\u001b[39m     monthly_aov, total_aov, category_aov, city_aov = calculate_aov()\n",
      "\u001b[31mValueError\u001b[39m: too many values to unpack (expected 2)"
     ]
    }
   ],
   "source": [
    "from src.metrics import revenue_per_city, top3_cities\n",
    "from src.viz import plot_tot_revenue_per_city\n",
    "\n",
    "print(\"Top 3 cities per sales:\")\n",
    "print(top3_cities(df_clean))\n",
    "\n",
    "print()\n",
    "plot_tot_revenue_per_city(df_clean)"
   ]
  },
  {
   "cell_type": "markdown",
   "id": "33d3b31f",
   "metadata": {},
   "source": [
    "### 3. När säljer vi? – finns tidsmönster/säsong i försäljningen?\n",
    "\n",
    " **Nyckeltal:** TBD"
   ]
  },
  {
   "cell_type": "code",
   "execution_count": 3,
   "id": "3458acc3",
   "metadata": {},
   "outputs": [
    {
     "name": "stderr",
     "output_type": "stream",
     "text": [
      "c:\\Users\\Mauro\\Desktop\\Gruppuppgift -Linnéa branch\\Gruppuppgift\\src\\metrics.py:131: FutureWarning: 'M' is deprecated and will be removed in a future version, please use 'ME' instead.\n",
      "  .resample(freq)[\"revenue\"]\n"
     ]
    },
    {
     "data": {
      "application/vnd.microsoft.datawrangler.viewer.v0+json": {
       "columns": [
        {
         "name": "index",
         "rawType": "int64",
         "type": "integer"
        },
        {
         "name": "month",
         "rawType": "object",
         "type": "string"
        },
        {
         "name": "revenue",
         "rawType": "int64",
         "type": "integer"
        }
       ],
       "ref": "71a9a3a3-0a8f-4809-a207-1e1e907a8fc8",
       "rows": [
        [
         "0",
         "2024-01",
         "438"
        ],
        [
         "1",
         "2024-02",
         "352"
        ],
        [
         "2",
         "2024-03",
         "402"
        ],
        [
         "3",
         "2024-04",
         "423"
        ],
        [
         "4",
         "2024-05",
         "422"
        ]
       ],
       "shape": {
        "columns": 2,
        "rows": 5
       }
      },
      "text/html": [
       "<div>\n",
       "<style scoped>\n",
       "    .dataframe tbody tr th:only-of-type {\n",
       "        vertical-align: middle;\n",
       "    }\n",
       "\n",
       "    .dataframe tbody tr th {\n",
       "        vertical-align: top;\n",
       "    }\n",
       "\n",
       "    .dataframe thead th {\n",
       "        text-align: right;\n",
       "    }\n",
       "</style>\n",
       "<table border=\"1\" class=\"dataframe\">\n",
       "  <thead>\n",
       "    <tr style=\"text-align: right;\">\n",
       "      <th></th>\n",
       "      <th>month</th>\n",
       "      <th>revenue</th>\n",
       "    </tr>\n",
       "  </thead>\n",
       "  <tbody>\n",
       "    <tr>\n",
       "      <th>0</th>\n",
       "      <td>2024-01</td>\n",
       "      <td>438</td>\n",
       "    </tr>\n",
       "    <tr>\n",
       "      <th>1</th>\n",
       "      <td>2024-02</td>\n",
       "      <td>352</td>\n",
       "    </tr>\n",
       "    <tr>\n",
       "      <th>2</th>\n",
       "      <td>2024-03</td>\n",
       "      <td>402</td>\n",
       "    </tr>\n",
       "    <tr>\n",
       "      <th>3</th>\n",
       "      <td>2024-04</td>\n",
       "      <td>423</td>\n",
       "    </tr>\n",
       "    <tr>\n",
       "      <th>4</th>\n",
       "      <td>2024-05</td>\n",
       "      <td>422</td>\n",
       "    </tr>\n",
       "  </tbody>\n",
       "</table>\n",
       "</div>"
      ],
      "text/plain": [
       "     month  revenue\n",
       "0  2024-01      438\n",
       "1  2024-02      352\n",
       "2  2024-03      402\n",
       "3  2024-04      423\n",
       "4  2024-05      422"
      ]
     },
     "execution_count": 3,
     "metadata": {},
     "output_type": "execute_result"
    }
   ],
   "source": [
    "from src.metrics  import  revenue_over_time\n",
    "\n",
    "#revenue_over_time(df_clean)\n",
    "\n",
    "ts_month = revenue_over_time(df_clean)\n",
    "ts_month.head()\n",
    "\n"
   ]
  },
  {
   "cell_type": "code",
   "execution_count": null,
   "id": "276f46c9",
   "metadata": {},
   "outputs": [
    {
     "name": "stderr",
     "output_type": "stream",
     "text": [
      "c:\\Users\\Mauro\\Desktop\\Gruppuppgift -Linnéa branch\\Gruppuppgift\\src\\metrics.py:52: FutureWarning: DataFrameGroupBy.apply operated on the grouping columns. This behavior is deprecated, and in a future version of pandas the grouping columns will be excluded from the operation. Either pass `include_groups=False` to exclude the groupings or explicitly select the grouping columns after groupby to silence this warning.\n",
      "  .apply(lambda x: x[\"revenue\"].sum() / x[\"order_id\"].nunique())\n",
      "c:\\Users\\Mauro\\Desktop\\Gruppuppgift -Linnéa branch\\Gruppuppgift\\src\\metrics.py:63: FutureWarning: DataFrameGroupBy.apply operated on the grouping columns. This behavior is deprecated, and in a future version of pandas the grouping columns will be excluded from the operation. Either pass `include_groups=False` to exclude the groupings or explicitly select the grouping columns after groupby to silence this warning.\n",
      "  .apply(lambda x: x[\"revenue\"].sum() / x[\"order_id\"].nunique())\n",
      "c:\\Users\\Mauro\\Desktop\\Gruppuppgift -Linnéa branch\\Gruppuppgift\\src\\metrics.py:72: FutureWarning: DataFrameGroupBy.apply operated on the grouping columns. This behavior is deprecated, and in a future version of pandas the grouping columns will be excluded from the operation. Either pass `include_groups=False` to exclude the groupings or explicitly select the grouping columns after groupby to silence this warning.\n",
      "  .apply(lambda x: x[\"revenue\"].sum() / x[\"order_id\"].nunique())\n"
     ]
    },
    {
     "ename": "ValueError",
     "evalue": "too many values to unpack (expected 2)",
     "output_type": "error",
     "traceback": [
      "\u001b[31m---------------------------------------------------------------------------\u001b[39m",
      "\u001b[31mValueError\u001b[39m                                Traceback (most recent call last)",
      "\u001b[36mCell\u001b[39m\u001b[36m \u001b[39m\u001b[32mIn[1]\u001b[39m\u001b[32m, line 2\u001b[39m\n\u001b[32m      1\u001b[39m \u001b[38;5;28;01mfrom\u001b[39;00m\u001b[38;5;250m \u001b[39m\u001b[34;01msrc\u001b[39;00m\u001b[34;01m.\u001b[39;00m\u001b[34;01mmetrics\u001b[39;00m\u001b[38;5;250m \u001b[39m\u001b[38;5;28;01mimport\u001b[39;00m revenue_over_time, total_revenue\n\u001b[32m----> \u001b[39m\u001b[32m2\u001b[39m \u001b[38;5;28;01mfrom\u001b[39;00m\u001b[38;5;250m \u001b[39m\u001b[34;01msrc\u001b[39;00m\u001b[34;01m.\u001b[39;00m\u001b[34;01mviz\u001b[39;00m\u001b[38;5;250m \u001b[39m\u001b[38;5;28;01mimport\u001b[39;00m revenue_monthly_bar\n\u001b[32m      4\u001b[39m \u001b[38;5;66;03m# revenue_total = V.revenue_total(df_clean)\u001b[39;00m\n\u001b[32m      5\u001b[39m \u001b[38;5;66;03m# revenue_by_month = V.revenue_by_month(df_clean),\u001b[39;00m\n\u001b[32m      6\u001b[39m \u001b[38;5;66;03m# revenue_total, revenue_by_month\u001b[39;00m\n\u001b[32m      8\u001b[39m fig, ax = plt.subplots(figsize=(\u001b[32m9\u001b[39m,\u001b[32m4\u001b[39m))\n",
      "\u001b[36mFile \u001b[39m\u001b[32mc:\\Users\\Mauro\\Desktop\\Gruppuppgift -Linnéa branch\\Gruppuppgift\\src\\viz.py:14\u001b[39m\n\u001b[32m     10\u001b[39m \u001b[38;5;66;03m#------------AOV I EN FIGUR--------------\u001b[39;00m\n\u001b[32m     11\u001b[39m \n\u001b[32m     12\u001b[39m \u001b[38;5;66;03m# hämtar datan från beräkningsfilen\u001b[39;00m\n\u001b[32m     13\u001b[39m \u001b[38;5;28;01mfrom\u001b[39;00m\u001b[38;5;250m \u001b[39m\u001b[34;01msrc\u001b[39;00m\u001b[34;01m.\u001b[39;00m\u001b[34;01mmetrics\u001b[39;00m\u001b[38;5;250m \u001b[39m\u001b[38;5;28;01mimport\u001b[39;00m calculate_aov \n\u001b[32m---> \u001b[39m\u001b[32m14\u001b[39m monthly_aov, total_aov = calculate_aov()\n\u001b[32m     16\u001b[39m \u001b[38;5;28;01mdef\u001b[39;00m\u001b[38;5;250m \u001b[39m\u001b[34mplot_aov_figure\u001b[39m(df):\n\u001b[32m     17\u001b[39m     monthly_aov, total_aov, category_aov, city_aov = calculate_aov()\n",
      "\u001b[31mValueError\u001b[39m: too many values to unpack (expected 2)"
     ]
    }
   ],
   "source": [
    "from src.metrics import revenue_over_time, total_revenue\n",
    "from src.viz import revenue_monthly_bar\n",
    "\n",
    "# revenue_total = V.revenue_total(df_clean)\n",
    "# revenue_by_month = V.revenue_by_month(df_clean),\n",
    "# revenue_total, revenue_by_month\n",
    "\n",
    "fig, ax = plt.subplots(figsize=(9,4))\n",
    "revenue_monthly_bar(ax, revenue_over_time[\"month\"], total_revenue[\"revenue\"], \"Revenue by month\", \"Month\", \"Revenue\")"
   ]
  },
  {
   "cell_type": "markdown",
   "id": "72a3048c",
   "metadata": {},
   "source": [
    "### 4. Hur ser en typisk order ut? – AOV (Average Order Value) och spridning.\n",
    "\n",
    "**Nyckeltal:** AOV (Average Order Value)"
   ]
  },
  {
   "cell_type": "markdown",
   "id": "ce0d514a",
   "metadata": {},
   "source": [
    "### 5. Topp-listor – topp-3 kategorier efter intäkt.\n",
    "\n",
    "**Nyckeltal:** Top-3 kategorier efter intäkt"
   ]
  },
  {
   "cell_type": "markdown",
   "id": "13bf02cc",
   "metadata": {},
   "source": [
    "### 6. Eventuella avvikelser – något oväntat mönster som sticker ut?\n",
    "\n",
    "*Insikter om avvikelser som går att utläsa från sammanställning av datan ovan*"
   ]
  },
  {
   "cell_type": "markdown",
   "id": "59e0507e",
   "metadata": {},
   "source": [
    "## Rekommendationer\n",
    "\n",
    "Avsluta rapporten med 2–3 korta rekommendationer (punktlista) baserat på era resultat, t.ex. “Satsa på kategori X i stad Y under månad Z”."
   ]
  }
 ],
 "metadata": {
  "kernelspec": {
   "display_name": ".venv",
   "language": "python",
   "name": "python3"
  },
  "language_info": {
   "codemirror_mode": {
    "name": "ipython",
    "version": 3
   },
   "file_extension": ".py",
   "mimetype": "text/x-python",
   "name": "python",
   "nbconvert_exporter": "python",
   "pygments_lexer": "ipython3",
   "version": "3.13.7"
  }
 },
 "nbformat": 4,
 "nbformat_minor": 5
}
