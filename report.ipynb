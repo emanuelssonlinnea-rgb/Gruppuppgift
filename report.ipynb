{
 "cells": [
  {
   "cell_type": "markdown",
   "id": "83cc277d",
   "metadata": {},
   "source": [
    "# Säljrapport"
   ]
  },
  {
   "cell_type": "markdown",
   "id": "2f4f571a",
   "metadata": {},
   "source": [
    "*Förslag på rapportstruktur*\n",
    "\n",
    "## Introduktion\n",
    "\n",
    "Här skriver vi en kort introduktion. "
   ]
  },
  {
   "cell_type": "code",
   "execution_count": null,
   "id": "77fb3233",
   "metadata": {},
   "outputs": [],
   "source": [
    "import pandas as pd\n",
    "import matplotlib.pyplot as plt\n",
    "from src.io_utils import load_data, clean_data, save_data\n",
    "\n",
    "# Load\n",
    "df_raw = load_data(\"data/ecommerce_sales.csv\")\n",
    "\n",
    "# Clean\n",
    "df_clean = clean_data(df_raw)\n",
    "\n",
    "# Save\n",
    "save_data(df_clean, \"data/clean_data.csv\")\n",
    "\n",
    "df_clean.head()"
   ]
  },
  {
   "cell_type": "markdown",
   "id": "556f2b54",
   "metadata": {},
   "source": [
    "## Nyckeltal\n",
    "\n",
    "Här visualiserar vi våra nyckeltal."
   ]
  },
  {
   "cell_type": "markdown",
   "id": "f9528f2e",
   "metadata": {},
   "source": [
    "### 1. Vad säljer? – vilka kategorier driver mest intäkt?\n",
    "\n",
    "**Nyckeltal:** Total intäkt och totalt antal enheter & Intäkt per kategori"
   ]
  },
  {
   "cell_type": "markdown",
   "id": "f6d4a18d",
   "metadata": {},
   "source": [
    "### 2. Var säljer vi? – vilka städer står för störst intäkt?\n",
    "\n",
    "**Nyckeltal:** Intäkt per stad "
   ]
  },
  {
   "cell_type": "code",
   "execution_count": null,
   "id": "b2c4fee4",
   "metadata": {},
   "outputs": [],
   "source": [
    "from src.metrics import revenue_per_city, top3_cities\n",
    "from src.viz import plot_tot_revenue_per_city\n",
    "\n",
    "print(\"Top 3 cities per sales:\")\n",
    "print(top3_cities(df_clean))\n",
    "\n",
    "print()\n",
    "plot_tot_revenue_per_city(df_clean)"
   ]
  },
  {
   "cell_type": "markdown",
   "id": "33d3b31f",
   "metadata": {},
   "source": [
    "### 3. När säljer vi? – finns tidsmönster/säsong i försäljningen?\n",
    "\n",
    " **Nyckeltal:** TBD"
   ]
  },
  {
   "cell_type": "markdown",
   "id": "72a3048c",
   "metadata": {},
   "source": [
    "### 4. Hur ser en typisk order ut? – AOV (Average Order Value) och spridning.\n",
    "\n",
    "**Nyckeltal:** AOV (Average Order Value)"
   ]
  },
  {
   "cell_type": "markdown",
   "id": "ce0d514a",
   "metadata": {},
   "source": [
    "### 5. Topp-listor – topp-3 kategorier efter intäkt.\n",
    "\n",
    "**Nyckeltal:** Top-3 kategorier efter intäkt"
   ]
  },
  {
   "cell_type": "markdown",
   "id": "13bf02cc",
   "metadata": {},
   "source": [
    "### 6. Eventuella avvikelser – något oväntat mönster som sticker ut?\n",
    "\n",
    "*Insikter om avvikelser som går att utläsa från sammanställning av datan ovan*"
   ]
  },
  {
   "cell_type": "markdown",
   "id": "59e0507e",
   "metadata": {},
   "source": [
    "## Rekommendationer\n",
    "\n",
    "Avsluta rapporten med 2–3 korta rekommendationer (punktlista) baserat på era resultat, t.ex. “Satsa på kategori X i stad Y under månad Z”."
   ]
  }
 ],
 "metadata": {
  "kernelspec": {
   "display_name": ".venv",
   "language": "python",
   "name": "python3"
  },
  "language_info": {
   "codemirror_mode": {
    "name": "ipython",
    "version": 3
   },
   "file_extension": ".py",
   "mimetype": "text/x-python",
   "name": "python",
   "nbconvert_exporter": "python",
   "pygments_lexer": "ipython3",
   "version": "3.13.7"
  }
 },
 "nbformat": 4,
 "nbformat_minor": 5
}
