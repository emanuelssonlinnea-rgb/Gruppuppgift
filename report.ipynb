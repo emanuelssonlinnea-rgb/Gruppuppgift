{
 "cells": [
  {
   "cell_type": "code",
   "execution_count": null,
   "id": "a579bee0",
   "metadata": {
    "vscode": {
     "languageId": "plaintext"
    }
   },
   "outputs": [],
   "source": []
  },
  {
   "cell_type": "markdown",
   "id": "87c375e3",
   "metadata": {},
   "source": []
  }
 ],
 "metadata": {
  "language_info": {
   "name": "python"
  }
 },
 "nbformat": 4,
 "nbformat_minor": 5
}
