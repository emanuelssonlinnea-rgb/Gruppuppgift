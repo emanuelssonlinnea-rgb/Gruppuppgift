{
 "cells": [
  {
   "cell_type": "markdown",
   "id": "83cc277d",
   "metadata": {},
   "source": [
    "# Säljrapport"
   ]
  },
  {
   "cell_type": "markdown",
   "id": "2f4f571a",
   "metadata": {},
   "source": [
    "*Förslag på rapportstruktur*\n",
    "\n",
    "## Introduktion\n",
    "\n",
    "Här skriver vi en kort introduktion. "
   ]
  },
  {
   "cell_type": "code",
   "execution_count": 1,
   "id": "77fb3233",
   "metadata": {},
   "outputs": [
    {
     "name": "stdout",
     "output_type": "stream",
     "text": [
      "      order_id       date       city  category   price  units  revenue\n",
      "1783    101783 2024-02-19    Uppsala  Clothing  163.74      3   491.22\n",
      "1419    101419 2024-06-28  Stockholm    Sports   77.98      2   155.96\n",
      "1670    101670 2024-05-03  Stockholm      Home  542.71      5  2713.55\n"
     ]
    }
   ],
   "source": [
    "import pandas as pd\n",
    "import matplotlib.pyplot as plt\n",
    "from src.io_utils import load_data, clean_data, save_data\n",
    "\n",
    "# Load\n",
    "df_raw = load_data(\"data/ecommerce_sales.csv\")\n",
    "\n",
    "# Clean\n",
    "df_clean = clean_data(df_raw)\n",
    "\n",
    "# Save\n",
    "save_data(df_clean, \"data/clean_data.csv\")\n",
    "\n",
    "df_clean.head()"
   ]
  },
  {
   "cell_type": "markdown",
   "id": "556f2b54",
   "metadata": {},
   "source": [
    "## Nyckeltal\n",
    "\n",
    "Här visualiserar vi våra nyckeltal."
   ]
  },
  {
   "cell_type": "markdown",
   "id": "f9528f2e",
   "metadata": {},
   "source": [
    "### 1. Vad säljer? – vilka kategorier driver mest intäkt?\n",
    "\n",
    "**Nyckeltal:** Total intäkt och totalt antal enheter & Intäkt per kategori"
   ]
  },
  {
   "cell_type": "markdown",
   "id": "f6d4a18d",
   "metadata": {},
   "source": [
    "### 2. Var säljer vi? – vilka städer står för störst intäkt?\n",
    "\n",
    "**Nyckeltal:** Intäkt per stad "
   ]
  },
  {
   "cell_type": "code",
   "execution_count": null,
   "id": "b2c4fee4",
   "metadata": {},
   "outputs": [
    {
     "name": "stdout",
     "output_type": "stream",
     "text": [
      "The top 3 cities per revenue are:\n",
      "        city  tot_rev_city\n",
      "0  Stockholm    1227201.94\n",
      "1   Göteborg     859019.65\n",
      "2      Malmö     567926.32.\n"
     ]
    },
    {
     "data": {
      "text/plain": [
       "<Axes: title={'center': 'Revenue per City'}, xlabel='City', ylabel='Revenue'>"
      ]
     },
     "execution_count": 2,
     "metadata": {},
     "output_type": "execute_result"
    },
    {
     "data": {
      "image/png": "[encoded data removed]",
      "text/plain": [
       "<Figure size 700x500 with 1 Axes>"
      ]
     },
     "metadata": {},
     "output_type": "display_data"
    }
   ],
   "source": [
    "from src.metrics import revenue_per_city, top3_cities\n",
    "from src.viz import plot_tot_revenue_per_city\n",
    "\n",
    "fig, ax = plt.subplots(figsize=(7,5))\n",
    "bar(ax, df_clean[\"city\"], df_clean[\"revenue\"], \"Revenue per City\", \"City\", \"Revenue\", color=\"#4682B4\")"
   ]
  },
  {
   "cell_type": "markdown",
   "id": "33d3b31f",
   "metadata": {},
   "source": [
    "### 3. När säljer vi? – finns tidsmönster/säsong i försäljningen?\n",
    "\n",
    " **Nyckeltal:** TBD"
   ]
  },
  {
   "cell_type": "code",
   "execution_count": null,
   "id": "3458acc3",
   "metadata": {},
   "outputs": [
    {
     "name": "stderr",
     "output_type": "stream",
     "text": [
      "c:\\Users\\Mauro\\Desktop\\Gruppuppgift -Linnéa branch\\Gruppuppgift\\src\\metrics.py:130: FutureWarning: 'M' is deprecated and will be removed in a future version, please use 'ME' instead.\n",
      "  .resample(freq)[\"revenue\"]\n"
     ]
    },
    {
     "data": {
      "application/vnd.microsoft.datawrangler.viewer.v0+json": {
       "columns": [
        {
         "name": "index",
         "rawType": "int64",
         "type": "integer"
        },
        {
         "name": "month",
         "rawType": "object",
         "type": "string"
        },
        {
         "name": "revenue",
         "rawType": "int64",
         "type": "integer"
        }
       ],
       "ref": "3e70db2c-911c-498c-bb32-693bfecadfe6",
       "rows": [
        [
         "0",
         "2024-01",
         "438"
        ],
        [
         "1",
         "2024-02",
         "352"
        ],
        [
         "2",
         "2024-03",
         "402"
        ],
        [
         "3",
         "2024-04",
         "423"
        ],
        [
         "4",
         "2024-05",
         "422"
        ]
       ],
       "shape": {
        "columns": 2,
        "rows": 5
       }
      },
      "text/html": [
       "<div>\n",
       "<style scoped>\n",
       "    .dataframe tbody tr th:only-of-type {\n",
       "        vertical-align: middle;\n",
       "    }\n",
       "\n",
       "    .dataframe tbody tr th {\n",
       "        vertical-align: top;\n",
       "    }\n",
       "\n",
       "    .dataframe thead th {\n",
       "        text-align: right;\n",
       "    }\n",
       "</style>\n",
       "<table border=\"1\" class=\"dataframe\">\n",
       "  <thead>\n",
       "    <tr style=\"text-align: right;\">\n",
       "      <th></th>\n",
       "      <th>month</th>\n",
       "      <th>revenue</th>\n",
       "    </tr>\n",
       "  </thead>\n",
       "  <tbody>\n",
       "    <tr>\n",
       "      <th>0</th>\n",
       "      <td>2024-01</td>\n",
       "      <td>438</td>\n",
       "    </tr>\n",
       "    <tr>\n",
       "      <th>1</th>\n",
       "      <td>2024-02</td>\n",
       "      <td>352</td>\n",
       "    </tr>\n",
       "    <tr>\n",
       "      <th>2</th>\n",
       "      <td>2024-03</td>\n",
       "      <td>402</td>\n",
       "    </tr>\n",
       "    <tr>\n",
       "      <th>3</th>\n",
       "      <td>2024-04</td>\n",
       "      <td>423</td>\n",
       "    </tr>\n",
       "    <tr>\n",
       "      <th>4</th>\n",
       "      <td>2024-05</td>\n",
       "      <td>422</td>\n",
       "    </tr>\n",
       "  </tbody>\n",
       "</table>\n",
       "</div>"
      ],
      "text/plain": [
       "     month  revenue\n",
       "0  2024-01      438\n",
       "1  2024-02      352\n",
       "2  2024-03      402\n",
       "3  2024-04      423\n",
       "4  2024-05      422"
      ]
     },
     "execution_count": 3,
     "metadata": {},
     "output_type": "execute_result"
    }
   ],
   "source": [
    "\n",
    "from src.metrics  import  revenue_over_time\n",
    "\n",
    "#revenue_over_time(df_clean)\n",
    "\n",
    "ts_month = revenue_over_time(df_clean)\n",
    "ts_month.head()\n",
    "\n"
   ]
  },
  {
   "cell_type": "code",
   "execution_count": null,
   "id": "276f46c9",
   "metadata": {},
   "outputs": [
    {
     "data": {
      "image/png": "[encoded data removed]",
      "text/plain": [
       "<Figure size 900x400 with 1 Axes>"
      ]
     },
     "metadata": {},
     "output_type": "display_data"
    }
   ],
   "source": [
    "from src.metrics import revenue_over_time, total_revenue\n",
    "from src.viz import revenue_monthly_bar\n",
    "\n",
    "# revenue_total = V.revenue_total(df_clean)\n",
    "# revenue_by_month = V.revenue_by_month(df_clean),\n",
    "# revenue_total, revenue_by_month\n",
    "\n",
    "fig, ax = plt.subplots(figsize=(9,4))\n",
    "#revenue_monthly_bar(ax, revenue_over_time[\"month\"], total_revenue[\"revenue\"], \"Revenue by month\", \"Month\", \"Revenue\")"
   ]
  },
  {
   "cell_type": "markdown",
   "id": "72a3048c",
   "metadata": {},
   "source": [
    "### 4. Hur ser en typisk order ut? – AOV (Average Order Value) och spridning.\n",
    "\n",
    "**Nyckeltal:** AOV (Average Order Value)"
   ]
  },
  {
   "cell_type": "code",
   "execution_count": null,
   "id": "288b5401",
   "metadata": {},
   "outputs": [
    {
     "ename": "NameError",
     "evalue": "name 'calculate_aov' is not defined",
     "output_type": "error",
     "traceback": [
      "\u001b[31m---------------------------------------------------------------------------\u001b[39m",
      "\u001b[31mNameError\u001b[39m                                 Traceback (most recent call last)",
      "\u001b[36mCell\u001b[39m\u001b[36m \u001b[39m\u001b[32mIn[5]\u001b[39m\u001b[32m, line 4\u001b[39m\n\u001b[32m      1\u001b[39m \u001b[38;5;66;03m# WIP\u001b[39;00m\n\u001b[32m      3\u001b[39m \u001b[38;5;28;01mfrom\u001b[39;00m\u001b[38;5;250m \u001b[39m\u001b[34;01msrc\u001b[39;00m\u001b[34;01m.\u001b[39;00m\u001b[34;01mviz\u001b[39;00m\u001b[38;5;250m \u001b[39m\u001b[38;5;28;01mimport\u001b[39;00m plot_aov_figure\n\u001b[32m----> \u001b[39m\u001b[32m4\u001b[39m \u001b[43mplot_aov_figure\u001b[49m\u001b[43m(\u001b[49m\u001b[43mdf_clean\u001b[49m\u001b[43m)\u001b[49m\n",
      "\u001b[36mFile \u001b[39m\u001b[32mc:\\Users\\Mauro\\Desktop\\Gruppuppgift -Linnéa branch\\Gruppuppgift\\src\\viz.py:16\u001b[39m, in \u001b[36mplot_aov_figure\u001b[39m\u001b[34m(df)\u001b[39m\n\u001b[32m     15\u001b[39m \u001b[38;5;28;01mdef\u001b[39;00m\u001b[38;5;250m \u001b[39m\u001b[34mplot_aov_figure\u001b[39m(df: pd.DataFrame):\n\u001b[32m---> \u001b[39m\u001b[32m16\u001b[39m     monthly_aov, total_aov, category_aov, city_aov = \u001b[43mcalculate_aov\u001b[49m(df)\n\u001b[32m     18\u001b[39m     \u001b[38;5;66;03m# Skapar en figur med tre deldigram bredvid varandra\u001b[39;00m\n\u001b[32m     19\u001b[39m     fig, axes = plt.subplots(\u001b[32m1\u001b[39m, \u001b[32m3\u001b[39m, figsize=(\u001b[32m16\u001b[39m, \u001b[32m6\u001b[39m), sharex=\u001b[38;5;28;01mFalse\u001b[39;00m, sharey=\u001b[38;5;28;01mFalse\u001b[39;00m)\n",
      "\u001b[31mNameError\u001b[39m: name 'calculate_aov' is not defined"
     ]
    }
   ],
   "source": [
    "# WIP\n",
    "\n",
    "from src.viz import plot_aov_figure\n",
    "plot_aov_figure(df_clean)"
   ]
  },
  {
   "cell_type": "markdown",
   "id": "ce0d514a",
   "metadata": {},
   "source": [
    "### 5. Topp-listor – topp-3 kategorier efter intäkt.\n",
    "\n",
    "**Nyckeltal:** Top-3 kategorier efter intäkt"
   ]
  },
  {
   "cell_type": "markdown",
   "id": "13bf02cc",
   "metadata": {},
   "source": [
    "### 6. Eventuella avvikelser – något oväntat mönster som sticker ut?\n",
    "\n",
    "*Insikter om avvikelser som går att utläsa från sammanställning av datan ovan*"
   ]
  },
  {
   "cell_type": "markdown",
   "id": "59e0507e",
   "metadata": {},
   "source": [
    "## Rekommendationer\n",
    "\n",
    "Avsluta rapporten med 2–3 korta rekommendationer (punktlista) baserat på era resultat, t.ex. “Satsa på kategori X i stad Y under månad Z”."
   ]
  }
 ],
 "metadata": {
  "kernelspec": {
   "display_name": ".venv",
   "language": "python",
   "name": "python3"
  },
  "language_info": {
   "codemirror_mode": {
    "name": "ipython",
    "version": 3
   },
   "file_extension": ".py",
   "mimetype": "text/x-python",
   "name": "python",
   "nbconvert_exporter": "python",
   "pygments_lexer": "ipython3",
   "version": "3.13.7"
  }
 },
 "nbformat": 4,
 "nbformat_minor": 5
}
