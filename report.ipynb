{
 "cells": [
  {
   "cell_type": "markdown",
   "id": "83cc277d",
   "metadata": {},
   "source": [
    "# Säljrapport"
   ]
  },
  {
   "cell_type": "markdown",
   "id": "2f4f571a",
   "metadata": {},
   "source": [
    "*Förslag på rapportstruktur*\n",
    "\n",
    "## Introduktion\n",
    "\n",
    "Här skriver vi en kort introduktion. "
   ]
  },
  {
   "cell_type": "code",
   "execution_count": 1,
   "id": "77fb3233",
   "metadata": {},
   "outputs": [
    {
     "name": "stdout",
     "output_type": "stream",
     "text": [
      "      order_id       date      city  category   price  units  revenue\n",
      "1426    101426 2024-06-30  Göteborg  Clothing  703.41      1   703.41\n",
      "1841    101841 2024-02-15     Malmö      Home  560.89      2  1121.78\n",
      "1558    101558 2024-01-31   Uppsala      Home  229.68      1   229.68\n"
     ]
    }
   ],
   "source": [
    "import matplotlib.pyplot as plt\n",
    "from src.io_utils import *\n",
    "from src.metrics import *\n",
    "from src.viz import *\n",
    "\n",
    "# Read\n",
    "df = read_data(\"data/ecommerce_sales.csv\")\n",
    "\n",
    "# Clean\n",
    "df_clean = clean_data(df)\n",
    "\n",
    "print(df_clean.sample(3))"
   ]
  },
  {
   "cell_type": "markdown",
   "id": "556f2b54",
   "metadata": {},
   "source": [
    "## Nyckeltal\n",
    "\n",
    "Här visualiserar vi våra nyckeltal."
   ]
  },
  {
   "cell_type": "markdown",
   "id": "f9528f2e",
   "metadata": {},
   "source": [
    "### 1. Vad säljer? – vilka kategorier driver mest intäkt?\n",
    "\n",
    "**Nyckeltal:** Total intäkt och totalt antal enheter & Intäkt per kategori"
   ]
  },
  {
   "cell_type": "markdown",
   "id": "f6d4a18d",
   "metadata": {},
   "source": [
    "### 2. Var säljer vi? – vilka städer står för störst intäkt?\n",
    "\n",
    "**Nyckeltal:** Intäkt per stad "
   ]
  },
  {
   "cell_type": "code",
   "execution_count": 2,
   "id": "b2c4fee4",
   "metadata": {},
   "outputs": [
    {
     "name": "stdout",
     "output_type": "stream",
     "text": [
      "The top 3 cities per revenue are:\n",
      "        city  tot_rev_city\n",
      "0  Stockholm    1227201.94\n",
      "1   Göteborg     859019.65\n",
      "2      Malmö     567926.32.\n"
     ]
    },
    {
     "data": {
      "text/plain": [
       "<Axes: title={'center': 'Revenue per City'}, xlabel='City', ylabel='Revenue'>"
      ]
     },
     "execution_count": 2,
     "metadata": {},
     "output_type": "execute_result"
    },
    {
     "data": {
      "image/png": "[encoded data removed]",
      "text/plain": [
       "<Figure size 700x500 with 1 Axes>"
      ]
     },
     "metadata": {},
     "output_type": "display_data"
    }
   ],
   "source": [
    "df_rev_city = revenue_per_city(df_clean)\n",
    "print(f\"The top 3 cities per revenue are:\\n\"\n",
    "      f\"{df_rev_city.head(3)}.\")\n",
    "\n",
    "fig, ax = plt.subplots(figsize=(7,5))\n",
    "bar(ax, df_rev_city[\"city\"], df_rev_city[\"tot_rev_city\"], \"Revenue per City\", \"City\", \"Revenue\", color=\"#4682B4\")"
   ]
  },
  {
   "cell_type": "markdown",
   "id": "33d3b31f",
   "metadata": {},
   "source": [
    "### 3. När säljer vi? – finns tidsmönster/säsong i försäljningen?\n",
    "\n",
    " **Nyckeltal:** TBD"
   ]
  },
  {
   "cell_type": "code",
   "execution_count": 3,
   "id": "3458acc3",
   "metadata": {},
   "outputs": [
    {
     "ename": "KeyError",
     "evalue": "\"None of ['month'] are in the columns\"",
     "output_type": "error",
     "traceback": [
      "\u001b[31m---------------------------------------------------------------------------\u001b[39m",
      "\u001b[31mKeyError\u001b[39m                                  Traceback (most recent call last)",
      "\u001b[32m/tmp/ipykernel_34933/3877696177.py\u001b[39m in \u001b[36m?\u001b[39m\u001b[34m()\u001b[39m\n\u001b[32m      1\u001b[39m \u001b[38;5;28;01mfrom\u001b[39;00m src.metrics  \u001b[38;5;28;01mimport\u001b[39;00m  revenue_over_time\n\u001b[32m      2\u001b[39m \n\u001b[32m      3\u001b[39m \u001b[38;5;66;03m#revenue_over_time(df_clean)\u001b[39;00m\n\u001b[32m      4\u001b[39m \n\u001b[32m----> \u001b[39m\u001b[32m5\u001b[39m ts_month = revenue_over_time(df_clean)\n\u001b[32m      6\u001b[39m ts_month.head()\n\u001b[32m      7\u001b[39m \n",
      "\u001b[32m~/Desktop/Grupprojekt/Gruppuppgift/src/metrics.py\u001b[39m in \u001b[36m?\u001b[39m\u001b[34m(df, freq)\u001b[39m\n\u001b[32m    117\u001b[39m     \"\"\"\n\u001b[32m    118\u001b[39m     When do we get the highest vs smallest revenue?\n\u001b[32m    119\u001b[39m     \"\"\"\n\u001b[32m    120\u001b[39m     ts = (\n\u001b[32m--> \u001b[39m\u001b[32m121\u001b[39m         df.set_index(\u001b[33m\"month\"\u001b[39m)\n\u001b[32m    122\u001b[39m         .sort_index()\n\u001b[32m    123\u001b[39m         .resample(freq)[\u001b[33m\"revenue\"\u001b[39m]\n\u001b[32m    124\u001b[39m         .nunique()\n",
      "\u001b[32m~/Desktop/Grupprojekt/.venv/lib/python3.13/site-packages/pandas/core/frame.py\u001b[39m in \u001b[36m?\u001b[39m\u001b[34m(self, keys, drop, append, inplace, verify_integrity)\u001b[39m\n\u001b[32m   6140\u001b[39m                     \u001b[38;5;28;01mif\u001b[39;00m \u001b[38;5;28;01mnot\u001b[39;00m found:\n\u001b[32m   6141\u001b[39m                         missing.append(col)\n\u001b[32m   6142\u001b[39m \n\u001b[32m   6143\u001b[39m         \u001b[38;5;28;01mif\u001b[39;00m missing:\n\u001b[32m-> \u001b[39m\u001b[32m6144\u001b[39m             \u001b[38;5;28;01mraise\u001b[39;00m KeyError(f\"None of {missing} are in the columns\")\n\u001b[32m   6145\u001b[39m \n\u001b[32m   6146\u001b[39m         \u001b[38;5;28;01mif\u001b[39;00m inplace:\n\u001b[32m   6147\u001b[39m             frame = self\n",
      "\u001b[31mKeyError\u001b[39m: \"None of ['month'] are in the columns\""
     ]
    }
   ],
   "source": [
    "from src.metrics  import  revenue_over_time\n",
    "\n",
    "#revenue_over_time(df_clean)\n",
    "\n",
    "ts_month = revenue_over_time(df_clean)\n",
    "ts_month.head()\n",
    "\n"
   ]
  },
  {
   "cell_type": "code",
   "execution_count": null,
   "id": "276f46c9",
   "metadata": {},
   "outputs": [],
   "source": [
    "from src.metrics import revenue_over_time, total_revenue\n",
    "from src.viz import revenue_monthly_bar\n",
    "\n",
    "# revenue_total = V.revenue_total(df_clean)\n",
    "# revenue_by_month = V.revenue_by_month(df_clean),\n",
    "# revenue_total, revenue_by_month\n",
    "\n",
    "fig, ax = plt.subplots(figsize=(9,4))\n",
    "revenue_monthly_bar(ax, revenue_over_time[\"month\"], total_revenue[\"revenue\"], \"Revenue by month\", \"Month\", \"Revenue\")"
   ]
  },
  {
   "cell_type": "markdown",
   "id": "72a3048c",
   "metadata": {},
   "source": [
    "### 4. Hur ser en typisk order ut? – AOV (Average Order Value) och spridning.\n",
    "\n",
    "**Nyckeltal:** AOV (Average Order Value)"
   ]
  },
  {
   "cell_type": "code",
   "execution_count": null,
   "id": "288b5401",
   "metadata": {},
   "outputs": [],
   "source": [
    "# WIP\n",
    "\n",
    "from src.viz import plot_aov_figure\n",
    "plot_aov_figure(df_clean)"
   ]
  },
  {
   "cell_type": "markdown",
   "id": "ce0d514a",
   "metadata": {},
   "source": [
    "### 5. Topp-listor – topp-3 kategorier efter intäkt.\n",
    "\n",
    "**Nyckeltal:** Top-3 kategorier efter intäkt"
   ]
  },
  {
   "cell_type": "markdown",
   "id": "13bf02cc",
   "metadata": {},
   "source": [
    "### 6. Eventuella avvikelser – något oväntat mönster som sticker ut?\n",
    "\n",
    "*Insikter om avvikelser som går att utläsa från sammanställning av datan ovan*"
   ]
  },
  {
   "cell_type": "markdown",
   "id": "59e0507e",
   "metadata": {},
   "source": [
    "## Rekommendationer\n",
    "\n",
    "Avsluta rapporten med 2–3 korta rekommendationer (punktlista) baserat på era resultat, t.ex. “Satsa på kategori X i stad Y under månad Z”."
   ]
  }
 ],
 "metadata": {
  "kernelspec": {
   "display_name": ".venv",
   "language": "python",
   "name": "python3"
  },
  "language_info": {
   "codemirror_mode": {
    "name": "ipython",
    "version": 3
   },
   "file_extension": ".py",
   "mimetype": "text/x-python",
   "name": "python",
   "nbconvert_exporter": "python",
   "pygments_lexer": "ipython3",
   "version": "3.13.7"
  }
 },
 "nbformat": 4,
 "nbformat_minor": 5
}
