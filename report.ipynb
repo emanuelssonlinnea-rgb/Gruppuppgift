{
 "cells": [
  {
   "cell_type": "markdown",
   "id": "87f42588",
   "metadata": {},
   "source": [
    "import pandas as pd\n",
    "\n",
    "df = pd.read_csv(\"data/ecommerce_sales.csv\")\n",
    "\n",
    "# prints an overview of data inputs\n",
    "print(\"Overview of data input:\")\n",
    "print(\"-----------\")\n",
    "print(df.head())\n",
    "print(\"-----------\")\n",
    "print(\"Number of rows and columns:\", df.shape)\n",
    "print(\"-----------\")\n",
    "print(df.describe().round(2))\n",
    "print(\"-----------\")\n"
   ]
  },
  {
   "cell_type": "code",
   "execution_count": null,
   "id": "e711608f",
   "metadata": {},
   "outputs": [],
   "source": [
    "# prints a sumary of data status\n",
    "print(\"Summary of data status:\")\n",
    "print(\"-----------\")\n",
    "print(df.info())\n",
    "print(\"-----------\")\n",
    "print(df.isna().sum())\n",
    "print(\"-----------\")\n",
    "print(df.dtypes)\n",
    "print(\"-----------\")",
    "report.ipynb = \n",
    "importerar funktioner/klass från src/ och visar resultaten\n",
    "\n",
    "All körbar analys ska i Jupyter-notebook som fungerar från topp till botten."
   ]
  }
 ],
 "metadata": {
  "kernelspec": {
   "display_name": "Python 3",
   "display_name": ".venv",
   "language": "python",
   "name": "python3"
  },
  "language_info": {
   "codemirror_mode": {
    "name": "ipython",
    "version": 3
   },
   "file_extension": ".py",
   "mimetype": "text/x-python",
   "name": "python",
   "nbconvert_exporter": "python",
   "pygments_lexer": "ipython3",
   "version": "3.12.3"
  }
 },
 "nbformat": 4,
 "nbformat_minor": 5
}
