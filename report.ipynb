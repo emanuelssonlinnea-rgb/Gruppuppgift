{
 "cells": [
  {
   "cell_type": "markdown",
   "id": "87f42588",
   "metadata": {},
   "source": [
    "report.ipynb = \n",
    "importerar funktioner/klass från src/ och visar resultaten\n",
    "\n",
    "All körbar analys ska i Jupyter-notebook som fungerar från topp till botten."
   ]
  }
 ],
 "metadata": {
  "kernelspec": {
   "display_name": ".venv",
   "language": "python",
   "name": "python3"
  },
  "language_info": {
   "name": "python",
   "version": "3.12.3"
  }
 },
 "nbformat": 4,
 "nbformat_minor": 5
}
