{
 "cells": [
  {
   "cell_type": "markdown",
   "id": "83cc277d",
   "metadata": {},
   "source": [
    "# Säljrapport"
   ]
  },
  {
   "cell_type": "markdown",
   "id": "2f4f571a",
   "metadata": {},
   "source": [
    "*Förslag på rapportstruktur*\n",
    "\n",
    "## Introduktion\n",
    "\n",
    "Här skriver vi en kort introduktion. "
   ]
  },
  {
   "cell_type": "code",
   "execution_count": 4,
   "id": "77fb3233",
   "metadata": {},
   "outputs": [
    {
     "name": "stderr",
     "output_type": "stream",
     "text": [
      "/home/irene/Desktop/Grupprojekt/Gruppuppgift/src/io_utils.py:19: FutureWarning: Downcasting object dtype arrays on .fillna, .ffill, .bfill is deprecated and will change in a future version. Call result.infer_objects(copy=False) instead. To opt-in to the future behavior, set `pd.set_option('future.no_silent_downcasting', True)`\n",
      "  return s.astype(\"object\").fillna(missing_label)\n"
     ]
    },
    {
     "data": {
      "application/vnd.microsoft.datawrangler.viewer.v0+json": {
       "columns": [
        {
         "name": "index",
         "rawType": "int64",
         "type": "integer"
        },
        {
         "name": "order_id",
         "rawType": "category",
         "type": "unknown"
        },
        {
         "name": "date",
         "rawType": "datetime64[ns]",
         "type": "datetime"
        },
        {
         "name": "city",
         "rawType": "category",
         "type": "unknown"
        },
        {
         "name": "category",
         "rawType": "category",
         "type": "unknown"
        },
        {
         "name": "price",
         "rawType": "float64",
         "type": "float"
        },
        {
         "name": "units",
         "rawType": "int64",
         "type": "integer"
        },
        {
         "name": "revenue",
         "rawType": "float64",
         "type": "float"
        },
        {
         "name": "month",
         "rawType": "datetime64[ns]",
         "type": "datetime"
        },
        {
         "name": "week",
         "rawType": "datetime64[ns]",
         "type": "datetime"
        }
       ],
       "ref": "7a031884-3f6b-4e8f-9cbf-a90354a48b1b",
       "rows": [
        [
         "1847",
         "101847",
         "2024-01-01 00:00:00",
         "Stockholm",
         "Clothing",
         "309.63",
         "6",
         "1857.78",
         "2024-01-01 00:00:00",
         "2024-01-01 00:00:00"
        ],
        [
         "120",
         "100120",
         "2024-01-01 00:00:00",
         "Malmö",
         "Home",
         "502.33",
         "2",
         "1004.66",
         "2024-01-01 00:00:00",
         "2024-01-01 00:00:00"
        ],
        [
         "609",
         "100609",
         "2024-01-01 00:00:00",
         "Malmö",
         "Clothing",
         "480.18",
         "3",
         "1440.54",
         "2024-01-01 00:00:00",
         "2024-01-01 00:00:00"
        ],
        [
         "516",
         "100516",
         "2024-01-01 00:00:00",
         "Västerås",
         "Electronics",
         "1037.7",
         "4",
         "4150.8",
         "2024-01-01 00:00:00",
         "2024-01-01 00:00:00"
        ],
        [
         "1939",
         "101939",
         "2024-01-01 00:00:00",
         "Göteborg",
         "Sports",
         "315.92",
         "7",
         "2211.44",
         "2024-01-01 00:00:00",
         "2024-01-01 00:00:00"
        ]
       ],
       "shape": {
        "columns": 9,
        "rows": 5
       }
      },
      "text/html": [
       "<div>\n",
       "<style scoped>\n",
       "    .dataframe tbody tr th:only-of-type {\n",
       "        vertical-align: middle;\n",
       "    }\n",
       "\n",
       "    .dataframe tbody tr th {\n",
       "        vertical-align: top;\n",
       "    }\n",
       "\n",
       "    .dataframe thead th {\n",
       "        text-align: right;\n",
       "    }\n",
       "</style>\n",
       "<table border=\"1\" class=\"dataframe\">\n",
       "  <thead>\n",
       "    <tr style=\"text-align: right;\">\n",
       "      <th></th>\n",
       "      <th>order_id</th>\n",
       "      <th>date</th>\n",
       "      <th>city</th>\n",
       "      <th>category</th>\n",
       "      <th>price</th>\n",
       "      <th>units</th>\n",
       "      <th>revenue</th>\n",
       "      <th>month</th>\n",
       "      <th>week</th>\n",
       "    </tr>\n",
       "  </thead>\n",
       "  <tbody>\n",
       "    <tr>\n",
       "      <th>1847</th>\n",
       "      <td>101847</td>\n",
       "      <td>2024-01-01</td>\n",
       "      <td>Stockholm</td>\n",
       "      <td>Clothing</td>\n",
       "      <td>309.63</td>\n",
       "      <td>6</td>\n",
       "      <td>1857.78</td>\n",
       "      <td>2024-01-01</td>\n",
       "      <td>2024-01-01</td>\n",
       "    </tr>\n",
       "    <tr>\n",
       "      <th>120</th>\n",
       "      <td>100120</td>\n",
       "      <td>2024-01-01</td>\n",
       "      <td>Malmö</td>\n",
       "      <td>Home</td>\n",
       "      <td>502.33</td>\n",
       "      <td>2</td>\n",
       "      <td>1004.66</td>\n",
       "      <td>2024-01-01</td>\n",
       "      <td>2024-01-01</td>\n",
       "    </tr>\n",
       "    <tr>\n",
       "      <th>609</th>\n",
       "      <td>100609</td>\n",
       "      <td>2024-01-01</td>\n",
       "      <td>Malmö</td>\n",
       "      <td>Clothing</td>\n",
       "      <td>480.18</td>\n",
       "      <td>3</td>\n",
       "      <td>1440.54</td>\n",
       "      <td>2024-01-01</td>\n",
       "      <td>2024-01-01</td>\n",
       "    </tr>\n",
       "    <tr>\n",
       "      <th>516</th>\n",
       "      <td>100516</td>\n",
       "      <td>2024-01-01</td>\n",
       "      <td>Västerås</td>\n",
       "      <td>Electronics</td>\n",
       "      <td>1037.70</td>\n",
       "      <td>4</td>\n",
       "      <td>4150.80</td>\n",
       "      <td>2024-01-01</td>\n",
       "      <td>2024-01-01</td>\n",
       "    </tr>\n",
       "    <tr>\n",
       "      <th>1939</th>\n",
       "      <td>101939</td>\n",
       "      <td>2024-01-01</td>\n",
       "      <td>Göteborg</td>\n",
       "      <td>Sports</td>\n",
       "      <td>315.92</td>\n",
       "      <td>7</td>\n",
       "      <td>2211.44</td>\n",
       "      <td>2024-01-01</td>\n",
       "      <td>2024-01-01</td>\n",
       "    </tr>\n",
       "  </tbody>\n",
       "</table>\n",
       "</div>"
      ],
      "text/plain": [
       "     order_id       date       city     category    price  units  revenue  \\\n",
       "1847   101847 2024-01-01  Stockholm     Clothing   309.63      6  1857.78   \n",
       "120    100120 2024-01-01      Malmö         Home   502.33      2  1004.66   \n",
       "609    100609 2024-01-01      Malmö     Clothing   480.18      3  1440.54   \n",
       "516    100516 2024-01-01   Västerås  Electronics  1037.70      4  4150.80   \n",
       "1939   101939 2024-01-01   Göteborg       Sports   315.92      7  2211.44   \n",
       "\n",
       "          month       week  \n",
       "1847 2024-01-01 2024-01-01  \n",
       "120  2024-01-01 2024-01-01  \n",
       "609  2024-01-01 2024-01-01  \n",
       "516  2024-01-01 2024-01-01  \n",
       "1939 2024-01-01 2024-01-01  "
      ]
     },
     "execution_count": 4,
     "metadata": {},
     "output_type": "execute_result"
    }
   ],
   "source": [
    "from src.io_utils import load_data, clean_data, save_data\n",
    "# Load\n",
    "df_raw = load_data(\"data/ecommerce_sales.csv\")\n",
    "\n",
    "# Clean\n",
    "df_clean = clean_data(df_raw)\n",
    "\n",
    "# Save\n",
    "save_data(df_clean, \"data/clean_data.csv\")\n",
    "\n",
    "df_clean.head()"
   ]
  },
  {
   "cell_type": "markdown",
   "id": "556f2b54",
   "metadata": {},
   "source": [
    "## Nyckeltal\n",
    "\n",
    "Här visualiserar vi våra nyckeltal."
   ]
  },
  {
   "cell_type": "markdown",
   "id": "f9528f2e",
   "metadata": {},
   "source": [
    "### 1. Vad säljer? – vilka kategorier driver mest intäkt?\n",
    "\n",
    "**Nyckeltal:** Total intäkt och totalt antal enheter & Intäkt per kategori"
   ]
  },
  {
   "cell_type": "markdown",
   "id": "f6d4a18d",
   "metadata": {},
   "source": [
    "### 2. Var säljer vi? – vilka städer står för störst intäkt?\n",
    "\n",
    "**Nyckeltal:** Intäkt per stad "
   ]
  },
  {
   "cell_type": "code",
   "execution_count": 5,
   "id": "b2c4fee4",
   "metadata": {},
   "outputs": [
    {
     "name": "stderr",
     "output_type": "stream",
     "text": [
      "/home/irene/Desktop/Grupprojekt/Gruppuppgift/src/metrics.py:67: FutureWarning: The default of observed=False is deprecated and will be changed to True in a future version of pandas. Pass observed=False to retain current behavior or observed=True to adopt the future default and silence this warning.\n",
      "  df.groupby(\"city\", dropna=False)\n",
      "/home/irene/Desktop/Grupprojekt/Gruppuppgift/src/metrics.py:67: FutureWarning: The default of observed=False is deprecated and will be changed to True in a future version of pandas. Pass observed=False to retain current behavior or observed=True to adopt the future default and silence this warning.\n",
      "  df.groupby(\"city\", dropna=False)\n"
     ]
    },
    {
     "data": {
      "image/png": "[encoded data removed]",
      "text/plain": [
       "<Figure size 800x500 with 1 Axes>"
      ]
     },
     "metadata": {},
     "output_type": "display_data"
    }
   ],
   "source": [
    "from src.metrics import revenue_per_city\n",
    "from src.viz import plot_tot_revenue_per_city\n",
    "\n",
    "revenue_city = revenue_per_city(df_clean)\n",
    "\n",
    "plot_tot_revenue_per_city(df_clean)"
   ]
  },
  {
   "cell_type": "markdown",
   "id": "33d3b31f",
   "metadata": {},
   "source": [
    "### 3. När säljer vi? – finns tidsmönster/säsong i försäljningen?\n",
    "\n",
    " **Nyckeltal:** TBD"
   ]
  },
  {
   "cell_type": "markdown",
   "id": "72a3048c",
   "metadata": {},
   "source": [
    "### 4. Hur ser en typisk order ut? – AOV (Average Order Value) och spridning.\n",
    "\n",
    "**Nyckeltal:** AOV (Average Order Value)"
   ]
  },
  {
   "cell_type": "markdown",
   "id": "ce0d514a",
   "metadata": {},
   "source": [
    "### 5. Topp-listor – topp-3 kategorier efter intäkt.\n",
    "\n",
    "**Nyckeltal:** Top-3 kategorier efter intäkt"
   ]
  },
  {
   "cell_type": "markdown",
   "id": "13bf02cc",
   "metadata": {},
   "source": [
    "### 6. Eventuella avvikelser – något oväntat mönster som sticker ut?\n",
    "\n",
    "*Insikter om avvikelser som går att utläsa från sammanställning av datan ovan*"
   ]
  },
  {
   "cell_type": "markdown",
   "id": "59e0507e",
   "metadata": {},
   "source": [
    "## Rekommendationer\n",
    "\n",
    "Avsluta rapporten med 2–3 korta rekommendationer (punktlista) baserat på era resultat, t.ex. “Satsa på kategori X i stad Y under månad Z”."
   ]
  }
 ],
 "metadata": {
  "kernelspec": {
   "display_name": ".venv",
   "language": "python",
   "name": "python3"
  },
  "language_info": {
   "codemirror_mode": {
    "name": "ipython",
    "version": 3
   },
   "file_extension": ".py",
   "mimetype": "text/x-python",
   "name": "python",
   "nbconvert_exporter": "python",
   "pygments_lexer": "ipython3",
   "version": "3.13.7"
  }
 },
 "nbformat": 4,
 "nbformat_minor": 5
}
